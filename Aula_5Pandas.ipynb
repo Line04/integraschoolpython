{
  "nbformat": 4,
  "nbformat_minor": 0,
  "metadata": {
    "colab": {
      "name": "Aula_5Pandas",
      "provenance": [],
      "collapsed_sections": [],
      "include_colab_link": true
    },
    "kernelspec": {
      "display_name": "Python 3",
      "name": "python3"
    }
  },
  "cells": [
    {
      "cell_type": "markdown",
      "metadata": {
        "id": "view-in-github",
        "colab_type": "text"
      },
      "source": [
        "<a href=\"https://colab.research.google.com/github/arturgmrs/integraschoolpython/blob/master/Aula_5Pandas.ipynb\" target=\"_parent\"><img src=\"https://colab.research.google.com/assets/colab-badge.svg\" alt=\"Open In Colab\"/></a>"
      ]
    },
    {
      "cell_type": "markdown",
      "metadata": {
        "id": "40Ls76ak-9HF",
        "colab_type": "text"
      },
      "source": [
        "#Introdução à Programação Python\n",
        "Prof. Carlos Artur Guimarães\n",
        "\n",
        "Material adaptado: Tópicos de Tecnologia Educacional  2019-1 PPGITE/IMD \n",
        "UFRN Prof.s Isabel Nunes e Luiz Affonso Guedes\n",
        "\n",
        "# Aula 5_Pandas\n",
        "\n",
        "\n",
        "*   Importando\n",
        "*   Carregando\n",
        "*   Visualizando Dataset \n",
        "\n"
      ]
    },
    {
      "cell_type": "code",
      "metadata": {
        "id": "hFsb7YAMrfDx",
        "colab_type": "code",
        "colab": {}
      },
      "source": [
        "#Importando o pacote pandas\n",
        "import pandas as pd"
      ],
      "execution_count": 0,
      "outputs": []
    },
    {
      "cell_type": "code",
      "metadata": {
        "id": "dhoo4t-GxdLS",
        "colab_type": "code",
        "colab": {}
      },
      "source": [
        "#Informando os dados\n",
        "data = [1,2,3,4,5,6,7,8,9,10]\n",
        "#Informando o DataFrame\n",
        "df = pd.DataFrame(data)\n",
        "#Imprimindo o DataFrame\n",
        "print (df)"
      ],
      "execution_count": 0,
      "outputs": []
    },
    {
      "cell_type": "code",
      "metadata": {
        "id": "slGkTOIHsJ2_",
        "colab_type": "code",
        "colab": {}
      },
      "source": [
        "import pandas as pd\n",
        "#Criando DataFrame\n",
        "data = [['Aldenor', 18],['Bruno',21],['Tereza',23],['Priscila',20]]\n",
        "#Definindo colunas \n",
        "df = pd.DataFrame (data,columns=['Aluno','Idade'])\n",
        "#imprimindo DataFrame\n",
        "print (df)"
      ],
      "execution_count": 0,
      "outputs": []
    },
    {
      "cell_type": "code",
      "metadata": {
        "id": "Yq3frFh-tXpq",
        "colab_type": "code",
        "colab": {}
      },
      "source": [
        "import pandas as pd\n",
        "data = [['Aldenor', 10, 2, 4, 5],['Bruno',9, 8, 8, 9],['Tereza',8,8,9,10],['Priscila',7,7,8,9]]\n",
        "df = pd.DataFrame (data,columns=['Aluno','Nota 1','Nota2','Nota 3', 'Nota 4'])\n",
        "print (df)"
      ],
      "execution_count": 0,
      "outputs": []
    },
    {
      "cell_type": "code",
      "metadata": {
        "id": "q_CdR2CpuIQB",
        "colab_type": "code",
        "colab": {}
      },
      "source": [
        "import pandas as pd\n",
        "d = {'one' : pd.Series([1,2,3], index=['a','b','c']),\n",
        "     'two' : pd.Series([1, 2, 3, 4], index=['a','b','c','d'])\n",
        "     }\n",
        "\n",
        "df = pd.DataFrame(d)\n",
        "#print (df)\n",
        "\n",
        "#print (df[3:4])\n",
        "\n",
        "#print (df.sum())"
      ],
      "execution_count": 0,
      "outputs": []
    },
    {
      "cell_type": "code",
      "metadata": {
        "id": "u5xNkV0p2hi1",
        "colab_type": "code",
        "colab": {}
      },
      "source": [
        "#importando dataset\n",
        "import pandas as pd\n",
        "df =pd.read_csv('titanic.csv')\n",
        "df"
      ],
      "execution_count": 0,
      "outputs": []
    },
    {
      "cell_type": "code",
      "metadata": {
        "id": "hMkT2n3mr7Bq",
        "colab_type": "code",
        "colab": {}
      },
      "source": [
        "#importando dataset\n",
        "import pandas as pd\n",
        "#leitura do csv\n",
        "df =pd.read_csv('titanic.csv')\n",
        "#leitura do csv e indexando uma coluna como principal\n",
        "#df =pd.read_csv('titanic.csv')#, index_col='class')\n",
        "#df\n",
        "\n",
        "#leitura do csv e indexando uma coluna como principal\n",
        "df =pd.read_csv('titanic.csv')\n",
        "df\n",
        "#, index_col='class')\n",
        "#df.sex"
      ],
      "execution_count": 0,
      "outputs": []
    },
    {
      "cell_type": "code",
      "metadata": {
        "id": "9--BacfN9czE",
        "colab_type": "code",
        "colab": {}
      },
      "source": [
        "# arquivo do GitHub - Livro Handbook of data Science\n",
        "Estados_USA = pd.read_csv('https://raw.githubusercontent.com/jakevdp/PythonDataScienceHandbook/master/notebooks/data/state-population.csv')"
      ],
      "execution_count": 0,
      "outputs": []
    },
    {
      "cell_type": "code",
      "metadata": {
        "id": "puVlvCwt9fAK",
        "colab_type": "code",
        "colab": {}
      },
      "source": [
        "Estados_USA"
      ],
      "execution_count": 0,
      "outputs": []
    },
    {
      "cell_type": "code",
      "metadata": {
        "id": "0UYzRY_p-EFA",
        "colab_type": "code",
        "colab": {}
      },
      "source": [
        "# Exemplo 2 de importação de um site www\n",
        "x1 = pd.read_csv('https://raw.githubusercontent.com/jakevdp/PythonDataScienceHandbook/master/notebooks/data/state-population.csv')"
      ],
      "execution_count": 0,
      "outputs": []
    },
    {
      "cell_type": "code",
      "metadata": {
        "id": "d9yNI5T7-Iy-",
        "colab_type": "code",
        "colab": {}
      },
      "source": [
        "x1"
      ],
      "execution_count": 0,
      "outputs": []
    },
    {
      "cell_type": "code",
      "metadata": {
        "id": "-h11rrcx-MSM",
        "colab_type": "code",
        "colab": {}
      },
      "source": [
        "x1['population']\n",
        "x1.population.head()"
      ],
      "execution_count": 0,
      "outputs": []
    },
    {
      "cell_type": "code",
      "metadata": {
        "id": "cYYFUX6u-T44",
        "colab_type": "code",
        "colab": {}
      },
      "source": [
        "x1[['year','population']]"
      ],
      "execution_count": 0,
      "outputs": []
    },
    {
      "cell_type": "code",
      "metadata": {
        "id": "r8fb7WQo-ZY0",
        "colab_type": "code",
        "colab": {}
      },
      "source": [
        "import matplotlib.pyplot as plt"
      ],
      "execution_count": 0,
      "outputs": []
    },
    {
      "cell_type": "code",
      "metadata": {
        "id": "Kiz876i9-cAh",
        "colab_type": "code",
        "colab": {}
      },
      "source": [
        "%matplotlib inline  \n",
        "x1['population'].plot()\n",
        "plt.show()"
      ],
      "execution_count": 0,
      "outputs": []
    },
    {
      "cell_type": "code",
      "metadata": {
        "id": "sl0m1yhj-VYh",
        "colab_type": "code",
        "colab": {}
      },
      "source": [
        "x1['state/region'].head()"
      ],
      "execution_count": 0,
      "outputs": []
    },
    {
      "cell_type": "code",
      "metadata": {
        "id": "OoeYm_ZV-wnU",
        "colab_type": "code",
        "colab": {}
      },
      "source": [
        "# Carregando os arquivos csv\n",
        "#Código \n",
        "pop = pd.read_csv('https://raw.githubusercontent.com/jakevdp/data-USstates/master/state-population.csv')\n",
        "areas = pd.read_csv('https://raw.githubusercontent.com/jakevdp/data-USstates/master/state-areas.csv')\n",
        "abbrevs = pd.read_csv('https://raw.githubusercontent.com/jakevdp/data-USstates/master/state-abbrevs.csv')"
      ],
      "execution_count": 0,
      "outputs": []
    },
    {
      "cell_type": "code",
      "metadata": {
        "id": "_sJiC76f-yGp",
        "colab_type": "code",
        "colab": {}
      },
      "source": [
        "# Verificando os conteúdos dos arquivos\n",
        "\n",
        "print(pop.head())\n",
        "print()\n",
        "print(areas.head())\n",
        "print()\n",
        "print(abbrevs.head())"
      ],
      "execution_count": 0,
      "outputs": []
    },
    {
      "cell_type": "code",
      "metadata": {
        "id": "MBqIiURQ-4bC",
        "colab_type": "code",
        "colab": {}
      },
      "source": [
        "# Verificação do DataFrame gerado\n",
        "dfMerged.head()"
      ],
      "execution_count": 0,
      "outputs": []
    },
    {
      "cell_type": "code",
      "metadata": {
        "id": "1xs_qdY--6m3",
        "colab_type": "code",
        "colab": {}
      },
      "source": [
        "# Verificação se há algum dado faltando\n",
        "dfMerged.isnull().any()"
      ],
      "execution_count": 0,
      "outputs": []
    },
    {
      "cell_type": "code",
      "metadata": {
        "id": "vgaauh4M-9d5",
        "colab_type": "code",
        "colab": {}
      },
      "source": [
        "# Verificação de quais itens de \"population\" estão faltando\n",
        "\n",
        "dfMerged[dfMerged['population'].isnull()].head()"
      ],
      "execution_count": 0,
      "outputs": []
    },
    {
      "cell_type": "code",
      "metadata": {
        "id": "-vtJQD54-_Hv",
        "colab_type": "code",
        "colab": {}
      },
      "source": [
        "# Verificação de quais state/region têm elementos na coluna \"state\" com data missing\n",
        "dfMerged.loc[dfMerged['state'].isnull(), 'state/region'].unique()"
      ],
      "execution_count": 0,
      "outputs": []
    },
    {
      "cell_type": "code",
      "metadata": {
        "id": "qp1DzgUw_A55",
        "colab_type": "code",
        "colab": {}
      },
      "source": [
        "# Para resolver o problema de associar Porto Rico com um estdo dos EU.\n",
        "# Só fica faltando resolver a população de Porto Rico (data missing)\n",
        "\n",
        "dfMerged.loc[dfMerged['state/region'] == 'PR', 'state'] = 'Puerto Rico'\n",
        "dfMerged.loc[dfMerged['state/region'] == 'USA', 'state'] = 'United States'\n",
        "dfMerged.isnull().any()"
      ],
      "execution_count": 0,
      "outputs": []
    },
    {
      "cell_type": "code",
      "metadata": {
        "id": "642r3rGs_FBX",
        "colab_type": "code",
        "colab": {}
      },
      "source": [
        "# Verificação do resultado\n",
        "\n",
        "dfFinal.head()"
      ],
      "execution_count": 0,
      "outputs": []
    },
    {
      "cell_type": "code",
      "metadata": {
        "id": "gKp51koa_G0f",
        "colab_type": "code",
        "colab": {}
      },
      "source": [
        "# Verificação se há data missing\n",
        "\n",
        "dfFinal.isnull().any()\n"
      ],
      "execution_count": 0,
      "outputs": []
    },
    {
      "cell_type": "code",
      "metadata": {
        "id": "FtjQQsF6_IY1",
        "colab_type": "code",
        "colab": {}
      },
      "source": [
        "# Código de verificação de quais estados têm data missing nos campos de área\n",
        "dfFinal['state'][dfFinal['area (sq. mi)'].isnull()].unique()"
      ],
      "execution_count": 0,
      "outputs": []
    },
    {
      "cell_type": "code",
      "metadata": {
        "id": "Wzg8vvt9_KXb",
        "colab_type": "code",
        "colab": {}
      },
      "source": [
        "# código de eliminação de campos com data missing\n",
        "dfFinal.dropna(inplace=True)\n",
        "dfFinal.head()\n"
      ],
      "execution_count": 0,
      "outputs": []
    },
    {
      "cell_type": "code",
      "metadata": {
        "id": "y4ROw2ow_MjB",
        "colab_type": "code",
        "colab": {}
      },
      "source": [
        "# código de eliminação de campos com data missing\n",
        "dfFinal.dropna(inplace=True)\n",
        "dfFinal.head()\n"
      ],
      "execution_count": 0,
      "outputs": []
    },
    {
      "cell_type": "code",
      "metadata": {
        "id": "3kCk4sqp_Os-",
        "colab_type": "code",
        "colab": {}
      },
      "source": [
        "# Código\n",
        "\n",
        "data2010 = dfFinal.query(\"year == 2010 & ages == 'total'\")\n",
        "data2010.head()"
      ],
      "execution_count": 0,
      "outputs": []
    }
  ]
}