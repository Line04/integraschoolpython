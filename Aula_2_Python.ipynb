{
  "nbformat": 4,
  "nbformat_minor": 0,
  "metadata": {
    "colab": {
      "name": "Aula_2_Python.ipynb",
      "provenance": [],
      "collapsed_sections": []
    },
    "kernelspec": {
      "display_name": "Python 3",
      "language": "python",
      "name": "python3"
    }
  },
  "cells": [
    {
      "cell_type": "markdown",
      "metadata": {
        "id": "TCltJbrPWtqT",
        "colab_type": "text"
      },
      "source": [
        "\n",
        "# Disciplina Introdução à Programação Python\n",
        "Prof. Carlos Artur Guimarães\n",
        "> \n",
        "```\n",
        "# Material adaptado: Tópicos de Tecnologia Educacional  2019-1 PPGITE/IMD \n",
        "UFRN Prof.s Isabel Nunes e Luiz Affonso Guedes\n",
        "```\n",
        "\n",
        "\n"
      ]
    },
    {
      "cell_type": "markdown",
      "metadata": {
        "colab_type": "text",
        "id": "-EZIybZ_WL2l"
      },
      "source": [
        "## Variáveis e Tipos em Python\n",
        "- Em Python, uma variável permite que você se refira a um valor com um nome. Para atribuir um valor a  uma variável use =, como este exemplo:\n",
        "\n",
        "x = 5\n",
        "\n",
        "Agora você pode usar o nome dessa variável, x, em vez do valor real, 5.\n",
        "\n",
        "Lembre-se, = em Python significa atribuição, não igualdade!"
      ]
    },
    {
      "cell_type": "code",
      "metadata": {
        "colab_type": "code",
        "id": "sQKV-UMnWL2l",
        "colab": {}
      },
      "source": [
        "x=5\n",
        "print(x)\n",
        "y = 3\n",
        "print(y)\n"
      ],
      "execution_count": 0,
      "outputs": []
    },
    {
      "cell_type": "code",
      "metadata": {
        "colab_type": "code",
        "outputId": "3336354f-9025-4669-c21c-8fc2a3c804bd",
        "id": "0kEQ7JCrWL2n",
        "colab": {
          "base_uri": "https://localhost:8080/",
          "height": 136
        }
      },
      "source": [
        "x = 5\n",
        "print(x)\n",
        "X = 10\n",
        "print(X)\n",
        "valor = 10\n",
        "Valor = 11\n",
        "vAlor = 12\n",
        "VALOR = 13\n",
        "print(\"\\t\", valor,\"\\n\", \"\\n\",Valor, \"\\n\",vAlor, \"\\n\", VALOR)\n"
      ],
      "execution_count": 0,
      "outputs": [
        {
          "output_type": "stream",
          "text": [
            "5\n",
            "10\n",
            "\t 10 \n",
            " \n",
            " 11 \n",
            " 12 \n",
            " 13\n"
          ],
          "name": "stdout"
        }
      ]
    },
    {
      "cell_type": "code",
      "metadata": {
        "colab_type": "code",
        "id": "liGmhfiCWL2p",
        "colab": {}
      },
      "source": [
        "# Diferença entre atribuição e comparação \n",
        "x = 6 +1\n",
        "print( x == 6)\n",
        "print (\"x\")\n",
        "print (x)\n"
      ],
      "execution_count": 0,
      "outputs": []
    },
    {
      "cell_type": "code",
      "metadata": {
        "colab_type": "code",
        "id": "NmDRz5Z-WL2r",
        "colab": {}
      },
      "source": [
        "#Exercício 02\n",
        "x = 1\n",
        "X = 2\n",
        "\n",
        "print(\"Python diferencia entre letras maiúsculas e minúsculas?\")\n",
        "print(\"Qual é o valor da variável x?\")\n",
        "print(\"A variável x é igual a \", x)\n",
        "print(\"Qual é o valor da variável X?\")\n",
        "print(\"A variável X é igual a \", X)"
      ],
      "execution_count": 0,
      "outputs": []
    },
    {
      "cell_type": "code",
      "metadata": {
        "colab_type": "code",
        "id": "OG-Duv0EWL2u",
        "colab": {}
      },
      "source": [
        "# Exercício 03\n",
        "print(\"Reescreva o Exercício 01 utilizando variáveis\")\n",
        "valor = 1000.0\n",
        "taxa_juros = 0.2\n",
        "anos = 4\n",
        "dívida = valor * (1 + taxa_juros) ** anos \n",
        "print(divida)"
      ],
      "execution_count": 0,
      "outputs": []
    },
    {
      "cell_type": "code",
      "metadata": {
        "colab_type": "code",
        "id": "kHu0jEacWL2w",
        "colab": {}
      },
      "source": [
        "# Exercício 04\n",
        "print(\"Calcule o Índice de Massa Copórea (IMC)\")\n",
        "\n",
        "cabelo = 0.1\n",
        "barba = 0.4\n",
        "chinelo = 0.05\n",
        "peso = 80 + cabelo + barba\n",
        "altura = 1.83 + chinelo\n",
        "\n",
        "IMC = peso /altura**2\n",
        "\n",
        "print(IMC)"
      ],
      "execution_count": 0,
      "outputs": []
    },
    {
      "cell_type": "markdown",
      "metadata": {
        "colab_type": "text",
        "id": "CmjjSuIMWL2y"
      },
      "source": [
        "### Tipos de vaiáveis em Python\n",
        "\n",
        "Os tipos das variáveis são definidos dinamicamente em Python.\n",
        "- Tipos Básicos em Python\n",
        "    - int --> Inteiro\n",
        "    - flot --> ponto flutuante #Representação digital de números racionais, utilizados por computadores\n",
        "    - str --> String #sequência de caracteres\n",
        "    - bool --> Booleano (True, False)"
      ]
    },
    {
      "cell_type": "code",
      "metadata": {
        "colab_type": "code",
        "id": "Rbga3M78WL2y",
        "colab": {}
      },
      "source": [
        "# Exercício 05\n",
        "Nome_aluno = \"Isabel Nunes\"\n",
        "nota = 9.8\n",
        "bom_aluno = True\n",
        "idade = 21 + 22  # o tempo não para, kkk\n",
        "\n",
        "print(\"Escreva no console os valores dessas variáveis\")\n",
        "print(Nome_aluno, nota, bom_aluno, idade)\n",
        "\n",
        "print(\"A aluna \", Nome_aluno,\" tem \", idade,\"de idade e tirou \", nota, \"em programação Python.\\n\")\n"
      ],
      "execution_count": 0,
      "outputs": []
    },
    {
      "cell_type": "code",
      "metadata": {
        "colab_type": "code",
        "id": "OjS9MzGJWL20",
        "colab": {}
      },
      "source": [
        ""
      ],
      "execution_count": 0,
      "outputs": []
    },
    {
      "cell_type": "code",
      "metadata": {
        "colab_type": "code",
        "id": "sUFbEf2mWL21",
        "colab": {}
      },
      "source": [
        "# Exercício 06\n",
        "print(\"O que ocorre se se somar um int com um float?\")\n",
        "a = 2\n",
        "b = 1.1\n",
        "c = a+b\n",
        "print(c)"
      ],
      "execution_count": 0,
      "outputs": []
    },
    {
      "cell_type": "code",
      "metadata": {
        "colab_type": "code",
        "id": "f98f_RkhWL23",
        "colab": {}
      },
      "source": [
        "# Exercício 07\n",
        "print(\"O que ocorre se se somar duas strings?\")\n",
        "Nome = \"Nathalie\" + \" \" + \"Rose\"\n",
        "Sobrenome = \"Araújo\"\n",
        "Nome_Completo = Nome + \" \" + Sobrenome\n",
        "print(Nome_Completo)\n",
        "Nome_Completo"
      ],
      "execution_count": 0,
      "outputs": []
    },
    {
      "cell_type": "code",
      "metadata": {
        "colab_type": "code",
        "id": "cstKiFMJWL24",
        "colab": {}
      },
      "source": [
        "# Exercício 08\n",
        "print(\"É possível somar um int com um str?\")  # Ou soma inteiros ou concatena str\n",
        "Nome = \"Maria\"\n",
        "Idade = 18\n",
        "Nome + Idade"
      ],
      "execution_count": 0,
      "outputs": []
    },
    {
      "cell_type": "code",
      "metadata": {
        "colab_type": "code",
        "outputId": "228c3bfc-7e89-4b75-c376-66a035bb7815",
        "id": "ajTuCSfQWL26",
        "colab": {
          "base_uri": "https://localhost:8080/",
          "height": 68
        }
      },
      "source": [
        "# Exercício 09\n",
        "# Use a função type(variavel) para obter o tipo da variável.\n",
        "x1 = 1\n",
        "x2 = \"aeiou\"\n",
        "x3 = False\n",
        "print(type(x1))\n",
        "print(type(x2))\n",
        "type(x3)"
      ],
      "execution_count": 9,
      "outputs": [
        {
          "output_type": "stream",
          "text": [
            "<class 'int'>\n",
            "<class 'str'>\n"
          ],
          "name": "stdout"
        },
        {
          "output_type": "execute_result",
          "data": {
            "text/plain": [
              "bool"
            ]
          },
          "metadata": {
            "tags": []
          },
          "execution_count": 9
        }
      ]
    },
    {
      "cell_type": "markdown",
      "metadata": {
        "colab_type": "text",
        "id": "_ixNmzNSWL3C"
      },
      "source": [
        "### Programa desafio 1:\n",
        "\n",
        "Escreva um programa que solicite por antrada de teclado os seguintes valores de variáveis:\n",
        "- nome\n",
        "- altura\n",
        "-peso\n",
        "\n",
        "forneçao como saída o nome e o imc correspondente.\n",
        "\n",
        "Exemplo:\n",
        "Maria seu IMC é de 1.62"
      ]
    },
    {
      "cell_type": "code",
      "metadata": {
        "colab_type": "code",
        "id": "BK3McMiXWL3D",
        "colab": {}
      },
      "source": [
        "# Programa Desafio 1\n",
        "# Código\n",
        "\n",
        "print(\"Qual o seu nome? \")\n",
        "nome = input()\n",
        "\n",
        "print(\"Qual o seu peso?\")\n",
        "peso = float(input())\n",
        "\n",
        "\n",
        "print(\"Qual é a sua altura? \")\n",
        "altura = input()\n",
        "altura = float(altura)\n",
        "\n",
        "\n",
        "IMC = peso /altura**2\n",
        "\n",
        "print(nome, \" o seu IMC é \", IMC)\n",
        "\n"
      ],
      "execution_count": 0,
      "outputs": []
    },
    {
      "cell_type": "markdown",
      "metadata": {
        "id": "rbT0GXsDWtvk",
        "colab_type": "text"
      },
      "source": [
        "## Usando Função em Python\n",
        "- Há diversas funções úteis já disponíveis em Python\n",
        "    - type(variavel)\n",
        "    - print(variavel)\n",
        "    - str(variavel); float(variavel); ...\n",
        "    - max(variavel)\n",
        "    - min(variavel)\n",
        "    - mean(variavel)\n",
        "    - round(valor,precisao), round(valor)\n",
        "    - complex(valor)\n",
        "    - sorted(iterable, key, reverse)\n",
        "    - help(funcao)"
      ]
    },
    {
      "cell_type": "code",
      "metadata": {
        "id": "9jnsakiiWtvm",
        "colab_type": "code",
        "outputId": "663f53f8-7c6b-4450-a559-5d34eb8ab98a",
        "colab": {
          "base_uri": "https://localhost:8080/",
          "height": 119
        }
      },
      "source": [
        "# Exemplos\n",
        "# Criar variáveis var1 e var2\n",
        "var1 = [1, 2, 3, 4]\n",
        "var2 = True\n",
        "\n",
        "# Print tipo (type) de var1\n",
        "print(type(var1))\n",
        "\n",
        "# Print o tamanho de var1\n",
        "print(len(var1))\n",
        "\n",
        "# Print o máximo var1\n",
        "print(max(var1))\n",
        "\n",
        "# Print o mínimo var1\n",
        "print(min(var1))\n",
        "\n",
        "# Print a soma var1\n",
        "print(sum(var1))\n",
        "\n",
        "# Print média var1\n",
        "print(sum(var1)/len(var1))\n",
        "\n",
        "# Converter var2 para um inteiro: out2\n",
        "out2 = int(var2)"
      ],
      "execution_count": 0,
      "outputs": [
        {
          "output_type": "stream",
          "text": [
            "<class 'list'>\n",
            "4\n",
            "4\n",
            "1\n",
            "10\n",
            "2.5\n"
          ],
          "name": "stdout"
        }
      ]
    },
    {
      "cell_type": "code",
      "metadata": {
        "id": "sKdxe_c0WtwS",
        "colab_type": "code",
        "outputId": "4a581011-8b7a-4029-ea1c-fcf791fa574f",
        "colab": {
          "base_uri": "https://localhost:8080/",
          "height": 51
        }
      },
      "source": [
        "# Exemplo\n",
        "# Criar duas listas:first e second\n",
        "first = [11.25, 18.0, 20.0]\n",
        "second = [10.75, 9.50]\n",
        "\n",
        "# Unir as duas listas na lista full\n",
        "full = first + second\n",
        "print(full)\n",
        "\n",
        "# Ordenar a lista full em ordem decrscente e armazenar o resultado na lista full_sorted\n",
        "full_sorted = sorted(full, reverse = True)\n",
        "#full_sorted = sorted(full)\n",
        "\n",
        "# Print a lista full_sorted\n",
        "print(full_sorted)\n",
        "\n",
        "# Investigue se não se utilizar o parâmetro reserve\n",
        "\n",
        "# Qual é a utilidade do parâmetro key?"
      ],
      "execution_count": 0,
      "outputs": [
        {
          "output_type": "stream",
          "text": [
            "[11.25, 18.0, 20.0, 10.75, 9.5]\n",
            "[20.0, 18.0, 11.25, 10.75, 9.5]\n"
          ],
          "name": "stdout"
        }
      ]
    },
    {
      "cell_type": "markdown",
      "metadata": {
        "id": "AU8CIrdHWtwd",
        "colab_type": "text"
      },
      "source": [
        "### Lembrete:\n",
        "Em Python, todos os tipos de variáveis são classe.\n",
        "- As variáveis são objetos de classes específicas\n",
        "\n",
        "Assim, todas as variáveis possuem métodos específicos.\n",
        "- Os métodos são funções pertencentes a objetos\n",
        "\n",
        "Para acessar métodos, devemos utilizar a seguinte sintase:\n",
        "- variavel.metodo(parametros)"
      ]
    },
    {
      "cell_type": "markdown",
      "metadata": {
        "colab_type": "text",
        "id": "RysQJXVZqloV"
      },
      "source": [
        "### Lembrete:\n",
        "Em Python, todos os tipos de variáveis são classe.\n",
        "- As variáveis são objetos de classes específicas\n",
        "\n",
        "Assim, todas as variáveis possuem métodos específicos.\n",
        "- Os métodos são funções pertencentes a objetos\n",
        "\n",
        "Para acessar métodos, devemos utilizar a seguinte sintase:\n",
        "- variavel.metodo(parametros)"
      ]
    },
    {
      "cell_type": "markdown",
      "metadata": {
        "id": "MzdUF61uWtxE",
        "colab_type": "text"
      },
      "source": [
        "## Módulos em Python\n",
        "- Modulos agrupam funções, métodos e tipos específicos\n",
        "\n",
        "Pacotes são implementações Módulos disponíveis em Python \n",
        "- Há centenas de pacotes disponíveis em Python.\n",
        "\n",
        "Importação de Pacotes em Python (importa todo o pacote)\n",
        "- import pacote_desejado\n",
        "- import math\n",
        "\n",
        "Para usar funções do pacotes:\n",
        "- pacote_desejado.metodo_desejado(parametros)\n",
        "- pacote_desejado.variavel_desejada\n",
        "- math.pi\n",
        "\n",
        "Para importar apenas um módulo específico de um pacote, utilizamos:\n",
        "- from pacote_desejado import modulo_desejado\n",
        "\n",
        "Exemplo: importa só o pacote sqrt do pacote math\n",
        "\n",
        "- from math import sqrt    \n",
        "- print(sqrt(25))\n",
        "\n",
        "Ao utilizar \"from package import item\", o item pode ser um subpacote, submódulo, classe, função ou variável."
      ]
    },
    {
      "cell_type": "code",
      "metadata": {
        "id": "GPjXmEEKWtxF",
        "colab_type": "code",
        "outputId": "5a725b5b-267f-4d3f-8298-8b3e4b820c3f",
        "colab": {
          "base_uri": "https://localhost:8080/",
          "height": 51
        }
      },
      "source": [
        "# Exemplo\n",
        "# Importar pacote math \n",
        "import math\n",
        "\n",
        "# Definição de raio\n",
        "r = 0.43\n",
        "\n",
        "\n",
        "# Cálculo de C\n",
        "C = 2 * r * math.pi\n",
        "\n",
        "# Cálculo de A\n",
        "A = math.pi * r ** 2\n",
        "\n",
        "# print valores da Circunferência e Área\n",
        "print(\"Circunferência: \" + str(C))\n",
        "print(\"Área: \" , A)"
      ],
      "execution_count": 0,
      "outputs": [
        {
          "output_type": "stream",
          "text": [
            "Circunferência: 2.701769682087222\n",
            "Área: %f 0.5808804816487527\n"
          ],
          "name": "stdout"
        }
      ]
    },
    {
      "cell_type": "markdown",
      "metadata": {
        "id": "HlcqdyNxWtyg",
        "colab_type": "text"
      },
      "source": [
        "##  Comando de repetição (loops)\n",
        "- Comando for\n",
        "\n",
        "    for (variavel) in (sequencia):\n",
        "       comando_1\n",
        "       comando_2\n",
        "       ...\n",
        "       comando_n\n",
        "- Comando while\n",
        "    \n",
        "    while (condicao):\n",
        "       comando_1\n",
        "       comando_2\n",
        "       ...\n",
        "       comando_n"
      ]
    },
    {
      "cell_type": "markdown",
      "metadata": {
        "id": "I-MaEPPdwfiz",
        "colab_type": "text"
      },
      "source": [
        "### Nota:\n",
        " - O comando for é usado para percorrer uma sequência qualquer."
      ]
    },
    {
      "cell_type": "code",
      "metadata": {
        "id": "GosKA8-OwJps",
        "colab_type": "code",
        "colab": {}
      },
      "source": [
        "# Exemplo de uso do comando for\n",
        "for letter in \"banana\":\n",
        "   print(letter)"
      ],
      "execution_count": 0,
      "outputs": []
    },
    {
      "cell_type": "markdown",
      "metadata": {
        "id": "F79jSvWYwsWs",
        "colab_type": "text"
      },
      "source": [
        "- Também podemos percorrer um intervalo numerico com o range."
      ]
    },
    {
      "cell_type": "code",
      "metadata": {
        "id": "uCSsy8_dwXGB",
        "colab_type": "code",
        "colab": {}
      },
      "source": [
        "# Exemplo de uso do comando for\n",
        "\n",
        "for number in range(10):\n",
        "  print(number)"
      ],
      "execution_count": 0,
      "outputs": []
    },
    {
      "cell_type": "code",
      "metadata": {
        "id": "OeZYS7fzw2xH",
        "colab_type": "code",
        "colab": {}
      },
      "source": [
        "# Exemplo de uso do comando for\n",
        "\n",
        "for x in range(5, 15):\n",
        "  print('O numero é ' + str(x))"
      ],
      "execution_count": 0,
      "outputs": []
    },
    {
      "cell_type": "code",
      "metadata": {
        "id": "nx2n_og5xLA-",
        "colab_type": "code",
        "colab": {}
      },
      "source": [
        "# Exercício 21 - Homework\n",
        "# Implemente um laco que imprima a tabuada de um número\n",
        "\n",
        "print(\" entre com um número inteiro positivo: \")\n",
        "base = int(input())\n",
        "\n",
        "# Escreve o restante do código utilizando o comendo for\n",
        "\n"
      ],
      "execution_count": 0,
      "outputs": []
    },
    {
      "cell_type": "code",
      "metadata": {
        "id": "aCK7XiE3ydLN",
        "colab_type": "code",
        "colab": {}
      },
      "source": [
        "# Exemplo - uso do comando for\n",
        "\n",
        "print(\"O range() pode ter o passo entre os elementos especificados.\")\n",
        "print( \"Neste exemplo, o passo é 10\")\n",
        "\n",
        "for y in range(0, 100, 10):\n",
        "  print('O numero eh ' + str(y))"
      ],
      "execution_count": 0,
      "outputs": []
    },
    {
      "cell_type": "code",
      "metadata": {
        "id": "zzSjDSvrzBDA",
        "colab_type": "code",
        "colab": {}
      },
      "source": [
        "# Exercíco 22 - Homework\n",
        "\n",
        "# Implemente um laco que exiba os multiplos de 5 entre 0 e 50 (inclusive)"
      ],
      "execution_count": 0,
      "outputs": []
    },
    {
      "cell_type": "code",
      "metadata": {
        "id": "3Iozwd8KWtyi",
        "colab_type": "code",
        "colab": {}
      },
      "source": [
        "# Exemplos de uso do comando for\n",
        "print(\"Primeiro print\")\n",
        "for i in range(2,5):\n",
        "    print(i)\n",
        "print(\"Segundo print\")\n",
        "for i in range(5):\n",
        "    print(i)\n",
        "print(\"Terceiro print\")\n",
        "lista = [\"p\", \"y\", \"t\", \"h\", \"o\", \"n\"]\n",
        "for item in lista:\n",
        "    print (item, end=' ')"
      ],
      "execution_count": 0,
      "outputs": []
    },
    {
      "cell_type": "code",
      "metadata": {
        "id": "hUxvQ8URWtyp",
        "colab_type": "code",
        "colab": {}
      },
      "source": [
        "# Exemplo de uso do comando for\n",
        "for x in [1,2,6]:\n",
        " print(x)"
      ],
      "execution_count": 0,
      "outputs": []
    },
    {
      "cell_type": "code",
      "metadata": {
        "id": "jNXGoyp4Wtyt",
        "colab_type": "code",
        "colab": {}
      },
      "source": [
        "# Exemplo de uso do comando for\n",
        "print(\"Uso do enumerate para se obter índice numérico\")\n",
        "for indice, valor in enumerate([\"p\", \"y\", \"t\", \"h\", \"o\", \"n\"]):\n",
        "    print (indice, valor)"
      ],
      "execution_count": 0,
      "outputs": []
    },
    {
      "cell_type": "code",
      "metadata": {
        "id": "5Q1XZhItWtyz",
        "colab_type": "code",
        "colab": {}
      },
      "source": [
        "#Exemplo - É possível implementar do comando \"for\" via lista\n",
        "lista1 = [x**2 for x in range(0,5)]\n",
        "print(lista1)"
      ],
      "execution_count": 0,
      "outputs": []
    },
    {
      "cell_type": "code",
      "metadata": {
        "id": "eCOKf5SXWty3",
        "colab_type": "code",
        "colab": {}
      },
      "source": [
        "#Exemplo - É possível implementar do comando \"for\" via lista\n",
        "lista2 = [True, \"2\", 3.0, 4]\n",
        "[type(item) for item in lista2]"
      ],
      "execution_count": 0,
      "outputs": []
    },
    {
      "cell_type": "markdown",
      "metadata": {
        "id": "L1Vy98sEzOMN",
        "colab_type": "text"
      },
      "source": [
        "### Nota:\n",
        "-É possivel encadear um laco dentro de outro (sem limites)."
      ]
    },
    {
      "cell_type": "code",
      "metadata": {
        "id": "Rc4987AlzWaL",
        "colab_type": "code",
        "colab": {}
      },
      "source": [
        "# Exemplo for encadeado\n",
        "\n",
        "for a in range(0,10):\n",
        "  print(\"O valor de a é: \" + str(a))\n",
        "  for b in range(0,5):\n",
        "    print(\" \\t O valor de b é: \" + str(b))"
      ],
      "execution_count": 0,
      "outputs": []
    },
    {
      "cell_type": "code",
      "metadata": {
        "id": "WO874PKfWty8",
        "colab_type": "code",
        "colab": {}
      },
      "source": [
        "# Exemplo de uso do comando while\n",
        "count = 0\n",
        "while count <= 5:\n",
        "    print(count)\n",
        "    count += 1"
      ],
      "execution_count": 0,
      "outputs": []
    },
    {
      "cell_type": "code",
      "metadata": {
        "id": "y7Qc_tDqWtzA",
        "colab_type": "code",
        "colab": {}
      },
      "source": [
        "# Exemplo de uso do comando while com break\n",
        "count = 0\n",
        "while count <= 5:\n",
        "    print(count)\n",
        "    count += 1\n",
        "    if count > 3: break"
      ],
      "execution_count": 0,
      "outputs": []
    },
    {
      "cell_type": "code",
      "metadata": {
        "id": "AIFplMKNWtzD",
        "colab_type": "code",
        "colab": {}
      },
      "source": [
        "# Comando else no final de um loop é executado após o término do loop\n",
        "#\n",
        "# Loop while\n",
        "#\n",
        "count = 0\n",
        "while count <= 5:\n",
        "    print(count)\n",
        "    count += 1\n",
        "    if(count == 3):break\n",
        "else:\n",
        "    print('após iteração')\n",
        "\n",
        "#\n",
        "# Loop for\n",
        "#\n",
        "for i in range(5):\n",
        "    print(i)\n",
        "else:\n",
        "    print('após iteração')\n"
      ],
      "execution_count": 0,
      "outputs": []
    },
    {
      "cell_type": "code",
      "metadata": {
        "id": "VBsdcA05WtxO",
        "colab_type": "code",
        "outputId": "aabfa646-eb21-4961-e9b0-e0b1e4cfc195",
        "colab": {
          "base_uri": "https://localhost:8080/",
          "height": 34
        }
      },
      "source": [
        "# Exemplo\n",
        "# Definição do raio\n",
        "r = 192500\n",
        "\n",
        "# Importar apenas a função radians do pacote math\n",
        "from math import radians \n",
        "\n",
        "# Calcular o arco correspondente a 12 graus.\n",
        "\n",
        "arco = r* radians(12)\n",
        "\n",
        "# Print o valor de arco\n",
        "print(arco)"
      ],
      "execution_count": 0,
      "outputs": [
        {
          "output_type": "stream",
          "text": [
            "40317.10572106901\n"
          ],
          "name": "stdout"
        }
      ]
    },
    {
      "cell_type": "markdown",
      "metadata": {
        "id": "FLqPhjveWtxr",
        "colab_type": "text"
      },
      "source": [
        "##  Comando de Controle de Fluxo\n",
        "- If\n",
        "\n",
        "    if (condição_lógica):\n",
        "         comando_1\n",
        "         comando_2\n",
        "         ...\n",
        "         comando_n\n",
        "         \n"
      ]
    },
    {
      "cell_type": "markdown",
      "metadata": {
        "id": "odpQMzYVWtxs",
        "colab_type": "text"
      },
      "source": [
        "- If-then-Else\n",
        "\n",
        "    if (condição_lógica):\n",
        "         comando_1\n",
        "         comando_2\n",
        "         ...\n",
        "         comando_n\n",
        "     else:\n",
        "         comando_k1\n",
        "         comando_k2\n",
        "         ...\n",
        "         comando_kn"
      ]
    },
    {
      "cell_type": "markdown",
      "metadata": {
        "id": "Uihql0-0Wtxv",
        "colab_type": "text"
      },
      "source": [
        "Descubra o erro do programa abaixo"
      ]
    },
    {
      "cell_type": "code",
      "metadata": {
        "id": "nitAEIyPWtxx",
        "colab_type": "code",
        "outputId": "df7c0325-5344-4625-c7af-feed8f9504d5",
        "colab": {
          "base_uri": "https://localhost:8080/",
          "height": 34
        }
      },
      "source": [
        "# Exemplo de uso do comando if\n",
        "\n",
        "a = 11\n",
        "if (a > 0):\n",
        " print (\"a é positivo \")"
      ],
      "execution_count": 0,
      "outputs": [
        {
          "output_type": "stream",
          "text": [
            "a é positivo \n"
          ],
          "name": "stdout"
        }
      ]
    },
    {
      "cell_type": "code",
      "metadata": {
        "id": "qWCLZ4WlWtyD",
        "colab_type": "code",
        "colab": {}
      },
      "source": [
        "# Exemplo  de uso do comando if\n",
        "a = -1\n",
        "if a > 0:\n",
        " print (\"a é positivo \")\n",
        "print(\"Identação é FUNDAMENTAL em Python\")"
      ],
      "execution_count": 0,
      "outputs": []
    },
    {
      "cell_type": "code",
      "metadata": {
        "id": "jjzFHo89WtyN",
        "colab_type": "code",
        "outputId": "b13ec38c-041a-4f60-cb6c-3fbd23468710",
        "colab": {
          "base_uri": "https://localhost:8080/",
          "height": 34
        }
      },
      "source": [
        "# Exemplo de uso do comando if-else\n",
        "a = -34\n",
        "if a > 0:\n",
        "  print (\"O valor de a é positivo\")\n",
        "else :\n",
        "  print (\"O valor de a não é positivo\")\n"
      ],
      "execution_count": 0,
      "outputs": [
        {
          "output_type": "stream",
          "text": [
            "O valor de a não é positivo\n"
          ],
          "name": "stdout"
        }
      ]
    },
    {
      "cell_type": "code",
      "metadata": {
        "id": "TPLZ6WLeWtyQ",
        "colab_type": "code",
        "outputId": "b34d2c40-2cb7-4e71-cfc5-3a8c6fb8a78a",
        "colab": {
          "base_uri": "https://localhost:8080/",
          "height": 34
        }
      },
      "source": [
        "# Exemplo de uso do comando if-elif-else\n",
        "a = 10\n",
        "if a == 0:\n",
        " print (\"a é zero \")\n",
        "elif a < 0:\n",
        " print (\"a é negativo \")\n",
        "else :\n",
        " print (\"a é positivo \")"
      ],
      "execution_count": 0,
      "outputs": [
        {
          "output_type": "stream",
          "text": [
            "a é positivo \n"
          ],
          "name": "stdout"
        }
      ]
    },
    {
      "cell_type": "code",
      "metadata": {
        "id": "Kt3LS-bVrN1O",
        "colab_type": "code",
        "outputId": "ad3b15d5-df8d-4aa1-8145-265401094208",
        "colab": {
          "base_uri": "https://localhost:8080/",
          "height": 68
        }
      },
      "source": [
        "# Exemplo de uso de IF-ELIF\n",
        "\n",
        "# atribuindo um valor qualquer a uma variavel\n",
        "\n",
        "print(\" entre com o valor de um número inteiro: \")\n",
        "x = int(input())\n",
        "\n",
        "# verificando o valor da variavel\n",
        "if x<0:\n",
        "  print('O valor eh negativo')\n",
        "elif x<10:\n",
        "  print('O valor eh menor que 10')\n",
        "elif x<20:\n",
        "  print('O valor eh menor que 20')\n",
        "elif x<30:\n",
        "  print('O valor eh menor que 30')\n",
        "elif x<40:\n",
        "  print('O valor eh menor que 40')\n",
        "elif x<50:\n",
        "  print('O valor eh menor que 50')\n",
        "elif x<100:\n",
        "  print('O valor eh menor que 100')\n",
        "elif x<500:\n",
        "  print('O valor eh menor que 500')\n",
        "elif x<1000:\n",
        "  print('O valor eh menor que 1000')\n",
        "else:\n",
        "  print('O valor eh maior ou igual a 1000')"
      ],
      "execution_count": 0,
      "outputs": [
        {
          "output_type": "stream",
          "text": [
            " entre com o valor de um número inteiro: \n",
            "23\n",
            "O valor eh menor que 30\n"
          ],
          "name": "stdout"
        }
      ]
    },
    {
      "cell_type": "code",
      "metadata": {
        "id": "mXzhLg3KqlZH",
        "colab_type": "code",
        "colab": {}
      },
      "source": [
        "# Exercício 20 - Homework\n",
        "\n",
        "# Leia tres string\n",
        "\n",
        "# Verifique se ao menos duas delas sao iguais entre si (imprima um aviso)\n",
        "# ou se todas sao diferentes entre si (imprima outro aviso)"
      ],
      "execution_count": 0,
      "outputs": []
    },
    {
      "cell_type": "code",
      "metadata": {
        "id": "_Th6fvVU_sdQ",
        "colab_type": "code",
        "outputId": "d107ebe8-c0c3-48e6-a829-84a31ddf9f5b",
        "colab": {
          "base_uri": "https://localhost:8080/",
          "height": 35
        }
      },
      "source": [
        "\n",
        "# Exemplo de uso do comando if-else alinhado\n",
        "a = -34\n",
        "b = 10\n",
        "\n",
        "if (a > 0):\n",
        "  if (b >0):\n",
        "   print (\"O valor de a é positivo e valor de b é positivo\")\n",
        "  else:\n",
        "   print (\"O valor de a é positivo e valor de b não é positivo\")\n",
        "else :\n",
        "  if (b> 0) :\n",
        "   print (\"O valor de a não é positivo e o valor de b é positivo\")\n",
        "  else :  \n",
        "   print (\"O valor de a não é positivo e o valor de b nao é positivo\")\n"
      ],
      "execution_count": 0,
      "outputs": [
        {
          "output_type": "stream",
          "text": [
            "O valor de a não é positivo e o valor de b é positivo\n"
          ],
          "name": "stdout"
        }
      ]
    },
    {
      "cell_type": "code",
      "metadata": {
        "id": "iNKZBw8iBEgh",
        "colab_type": "code",
        "colab": {}
      },
      "source": [
        "# Exercício 21 - Homework\n",
        "# Implemente o programa anterior com if-elif-else\n"
      ],
      "execution_count": 0,
      "outputs": []
    },
    {
      "cell_type": "markdown",
      "metadata": {
        "id": "ihFKz5xBZe0n",
        "colab_type": "text"
      },
      "source": [
        "### Programa Desafio 2\n",
        "- Utilize o Programa Desafio 1 como base.\n",
        "- solicite o Nome, Sexo, Peso e Altura.\n",
        "- Calcule o IMC\n",
        "- Dê o diagnóstivo:\n",
        "  - Se for homem:\n",
        "    - menor que 20 --> abaixo do peso\n",
        "   - entre 20 e 25 --> normal\n",
        "    - entre 25 e 30 --> sobrepeso\n",
        "    - acima de 30  --> obesso\n",
        " \n",
        " - Se for mulher:\n",
        "    - menor que 19 --> abaixo do peso\n",
        "    - entre 19 e 24 --> normal\n",
        "    - entre 24 e 29 --> sobrepeso\n",
        "    - acima de 29  --> obesso\n",
        "\n",
        "\n",
        "Exemplo:\n",
        " Maria, baseado no seu IMC, você está abaixo do peso."
      ]
    },
    {
      "cell_type": "code",
      "metadata": {
        "id": "O-RZ8QslZV48",
        "colab_type": "code",
        "colab": {}
      },
      "source": [
        "# Código do Programa Desafio 2\n"
      ],
      "execution_count": 0,
      "outputs": []
    },
    {
      "cell_type": "markdown",
      "metadata": {
        "id": "rqhnVkC_Wt2K",
        "colab_type": "text"
      },
      "source": [
        "## Criação de Módulo em Python\n",
        "\n",
        "- Um dos conceitos mais importantes na boa programação é reutilizar o código e evitar repetições.\n",
        "- A idéia é escrever funções e classes com um propósito e um escopo bem definidos e reutilizá-los em vez de repetir código similar em uma parte diferente de um programa (programação modular). O resultado é geralmente que a legibilidade e a manutenção de um programa são muito melhoradas. O que isso significa na prática é que nossos programas têm menos erros, são mais fáceis de estender e depurar / solucionar problemas.\n",
        "- O Python suporta programação modular em diferentes níveis. Funções e classes são exemplos de ferramentas para programação modular de baixo nível. Os módulos Python são uma construção de programação modular de nível superior, onde podemos coletar variáveis, funções e classes relacionadas em um módulo.\n",
        "- Um módulo python é definido em um arquivo python (com o ponto final do arquivo .py) e pode ser acessível a outros módulos e programas Python usando a instrução import."
      ]
    }
  ]
}