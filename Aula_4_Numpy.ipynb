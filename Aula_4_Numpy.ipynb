{
  "nbformat": 4,
  "nbformat_minor": 0,
  "metadata": {
    "kernelspec": {
      "display_name": "Python 3",
      "language": "python",
      "name": "python3"
    },
    "language_info": {
      "codemirror_mode": {
        "name": "ipython",
        "version": 3
      },
      "file_extension": ".py",
      "mimetype": "text/x-python",
      "name": "python",
      "nbconvert_exporter": "python",
      "pygments_lexer": "ipython3",
      "version": "3.6.3"
    },
    "colab": {
      "name": "Aula_4_Numpy.ipynb",
      "provenance": [],
      "include_colab_link": true
    }
  },
  "cells": [
    {
      "cell_type": "markdown",
      "metadata": {
        "id": "view-in-github",
        "colab_type": "text"
      },
      "source": [
        "<a href=\"https://colab.research.google.com/github/arturgmrs/integraschoolpython/blob/master/Aula_4_Numpy.ipynb\" target=\"_parent\"><img src=\"https://colab.research.google.com/assets/colab-badge.svg\" alt=\"Open In Colab\"/></a>"
      ]
    },
    {
      "cell_type": "markdown",
      "metadata": {
        "id": "Fy2kVG0-eI-N",
        "colab_type": "text"
      },
      "source": [
        "Introdução à Programação Python - Integra School 2020.1\n",
        "Carlos Artur Guimarães\n",
        "Pacote Numpy-Python\n",
        "\n",
        "## Adaptado: Disciplina: Análise da Aprendizagem UFRN(ITE 0021)\n",
        "PPGTI - UFRN 2019-2"
      ]
    },
    {
      "cell_type": "code",
      "metadata": {
        "id": "XhsUcGKpeckv",
        "colab_type": "code",
        "colab": {}
      },
      "source": [
        "# Importando o comando numpy\n",
        "import numpy\n",
        "import numpy as np"
      ],
      "execution_count": 0,
      "outputs": []
    },
    {
      "cell_type": "code",
      "metadata": {
        "id": "1rZEjO6ufqIF",
        "colab_type": "code",
        "colab": {}
      },
      "source": [
        "#Diferença entre lista e Array\n",
        "python_list = [1, 2, 3, 4, 5, 6, 7, 8, 9]\n",
        "print ((python_list) * 2)\n",
        "\n",
        "numpy_array = np.array ([1, 2, 3, 4, 5, 6, 7, 8, 9])\n",
        "print ((numpy_array) *2)"
      ],
      "execution_count": 0,
      "outputs": []
    },
    {
      "cell_type": "code",
      "metadata": {
        "id": "HuatusVfeu93",
        "colab_type": "code",
        "colab": {}
      },
      "source": [
        "#Para analisar o tamanho da array\n",
        "numpy_array = np.array ([1, 2, 3, 4, 5, 6, 7, 8, 9])\n",
        "print (numpy_array.size)\n"
      ],
      "execution_count": 0,
      "outputs": []
    },
    {
      "cell_type": "code",
      "metadata": {
        "id": "yW9jVx_SgPPv",
        "colab_type": "code",
        "outputId": "d0780a31-7730-4189-cd1e-61c3d8260f0e",
        "colab": {
          "base_uri": "https://localhost:8080/",
          "height": 34
        }
      },
      "source": [
        "# Identificar o tamanho de uma matriz\n",
        "numpy_matrix = np.array ([(1, 2, 3, 4), (5, 6, 7, 8)])\n",
        "print (numpy_matrix.shape)"
      ],
      "execution_count": 0,
      "outputs": [
        {
          "output_type": "stream",
          "text": [
            "(2, 4)\n"
          ],
          "name": "stdout"
        }
      ]
    },
    {
      "cell_type": "code",
      "metadata": {
        "id": "i_ZK6b1dgjGu",
        "colab_type": "code",
        "outputId": "a2339b03-ac15-4cef-abc4-184a61f3b558",
        "colab": {
          "base_uri": "https://localhost:8080/",
          "height": 84
        }
      },
      "source": [
        "# Alteração de uma matriz\n",
        "numpy_matrix = np.array([(1, 2, 3, 4), (5, 6, 7, 8)])\n",
        "numpy_matrix = numpy_matrix.reshape(4, 2)\n",
        "print(numpy_matrix)"
      ],
      "execution_count": 0,
      "outputs": [
        {
          "output_type": "stream",
          "text": [
            "[[1 2]\n",
            " [3 4]\n",
            " [5 6]\n",
            " [7 8]]\n"
          ],
          "name": "stdout"
        }
      ]
    },
    {
      "cell_type": "code",
      "metadata": {
        "id": "FnQZf32qjVmr",
        "colab_type": "code",
        "outputId": "dbcf68ce-c962-48a1-b812-6a3b9eba4c0c",
        "colab": {
          "base_uri": "https://localhost:8080/",
          "height": 34
        }
      },
      "source": [
        "#Extração de vários valores no array\n",
        "numpy_array = np.array([1, 2, 3, 4, 5, 6, 7, 8, 9])\n",
        "print(numpy_array[0:8])"
      ],
      "execution_count": 0,
      "outputs": [
        {
          "output_type": "stream",
          "text": [
            "[1 2 3 4 5 6 7 8]\n"
          ],
          "name": "stdout"
        }
      ]
    },
    {
      "cell_type": "code",
      "metadata": {
        "colab_type": "code",
        "outputId": "af731cea-04dc-460d-a452-c60fed533d59",
        "id": "v1PnZnFsmQTC",
        "colab": {
          "base_uri": "https://localhost:8080/",
          "height": 34
        }
      },
      "source": [
        "#Alterando a ordem dos valores no array\n",
        "numpy_array = np.array([1, 2, 3, 4, 5, 6, 7, 8, 9])\n",
        "print(numpy_array[::-1])"
      ],
      "execution_count": 0,
      "outputs": [
        {
          "output_type": "stream",
          "text": [
            "[9 8 7 6 5 4 3 2 1]\n"
          ],
          "name": "stdout"
        }
      ]
    },
    {
      "cell_type": "code",
      "metadata": {
        "id": "UJ0ydSkPnklP",
        "colab_type": "code",
        "outputId": "956a0a7a-f01b-43af-9fc6-567837e8a795",
        "colab": {
          "base_uri": "https://localhost:8080/",
          "height": 67
        }
      },
      "source": [
        "#Max, min e Soma no array\n",
        "numpy_array = np.array([1, 2, 3, 4, 5, 6, 7, 8, 9])\n",
        "print(numpy_array.max())\n",
        "9\n",
        "print(numpy_array.min())\n",
        "1\n",
        "print(numpy_array.sum())"
      ],
      "execution_count": 0,
      "outputs": [
        {
          "output_type": "stream",
          "text": [
            "9\n",
            "1\n",
            "45\n"
          ],
          "name": "stdout"
        }
      ]
    },
    {
      "cell_type": "code",
      "metadata": {
        "id": "wonkKA_an1qJ",
        "colab_type": "code",
        "outputId": "17312e2b-21f3-4beb-c312-04baa8913b7f",
        "colab": {
          "base_uri": "https://localhost:8080/",
          "height": 84
        }
      },
      "source": [
        "# Mean, mediana, variância e derivada\n",
        " \n",
        "numpy_array = np.array([1, 2, 3, 4, 5, 6, 7, 8, 9])\n",
        "print(numpy_array.mean())\n",
        "print (np.median (numpy_array))\n",
        "print(numpy_array.median()) #não funcionu\n",
        "print(numpy_array.var())\n",
        "print(numpy_array.std())"
      ],
      "execution_count": 0,
      "outputs": [
        {
          "output_type": "stream",
          "text": [
            "5.0\n",
            "5.0\n",
            "6.666666666666667\n",
            "2.581988897471611\n"
          ],
          "name": "stdout"
        }
      ]
    },
    {
      "cell_type": "code",
      "metadata": {
        "id": "42G1bpTSrO8g",
        "colab_type": "code",
        "outputId": "7236376a-b883-4134-d865-3b3661d99b21",
        "colab": {
          "base_uri": "https://localhost:8080/",
          "height": 134
        }
      },
      "source": [
        "#Fazendo operações por eixos \n",
        "print(numpy_matrix)\n",
        "print(numpy_matrix.sum(axis = 0))\n",
        "print(numpy_matrix.sum(axis = 1))\n",
        "print(numpy_matrix.sum(axis = None))"
      ],
      "execution_count": 0,
      "outputs": [
        {
          "output_type": "stream",
          "text": [
            "[[1 2]\n",
            " [3 4]\n",
            " [5 6]\n",
            " [7 8]]\n",
            "[16 20]\n",
            "[ 3  7 11 15]\n",
            "36\n"
          ],
          "name": "stdout"
        }
      ]
    },
    {
      "cell_type": "code",
      "metadata": {
        "id": "IzqIKM5BsXAv",
        "colab_type": "code",
        "outputId": "42385d50-c86b-4245-9e5f-3441ebd13b60",
        "colab": {
          "base_uri": "https://localhost:8080/",
          "height": 67
        }
      },
      "source": [
        "#Concatenando matrizes\n",
        "array_1 = np.array([1,2,3])\n",
        "array_2 = np.array([4,5,6])\n",
        "array_3 = np.array([7,8,9])\n",
        "print(np.concatenate((array_1, array_2, array_3)))    \n",
        "array_4 = np.array([[1,2,3],[0,0,0]])\n",
        "array_5 = np.array([[0,0,0],[7,8,9]])\n",
        "print(np.concatenate((array_4, array_5), axis = 1))   "
      ],
      "execution_count": 0,
      "outputs": [
        {
          "output_type": "stream",
          "text": [
            "[1 2 3 4 5 6 7 8 9]\n",
            "[[1 2 3 0 0 0]\n",
            " [0 0 0 7 8 9]]\n"
          ],
          "name": "stdout"
        }
      ]
    },
    {
      "cell_type": "code",
      "metadata": {
        "id": "C5kzcLOXmnE3",
        "colab_type": "code",
        "outputId": "d0674d1c-a104-449a-aa3c-3a26e962fcfb",
        "colab": {
          "base_uri": "https://localhost:8080/",
          "height": 84
        }
      },
      "source": [
        "#imprimindo array com zeros e uns\n",
        "print(np.zeros((1,2)))                   \n",
        "print(np.zeros((1,2), dtype = np.int)) \n",
        "print(np.ones((1,2)))                   \n",
        "print(np.ones((1,2), dtype = np.int))"
      ],
      "execution_count": 0,
      "outputs": [
        {
          "output_type": "stream",
          "text": [
            "[[0. 0.]]\n",
            "[[0 0]]\n",
            "[[1. 1.]]\n",
            "[[1 1]]\n"
          ],
          "name": "stdout"
        }
      ]
    },
    {
      "cell_type": "code",
      "metadata": {
        "id": "iLelwyOOzB2N",
        "colab_type": "code",
        "outputId": "4009b0a8-85ad-4241-fce4-3efd01d0346e",
        "colab": {
          "base_uri": "https://localhost:8080/",
          "height": 202
        }
      },
      "source": [
        "#imprimindo matrizes de identidade\n",
        "print(np.identity(3))\n",
        "#imprimindo matriz de 3x3\n",
        "print(np.eye(8, 7, k = 1))    \n",
        "#imprimindo matriz de 8x7, com primeira diagnal superior denotada com k =1"
      ],
      "execution_count": 0,
      "outputs": [
        {
          "output_type": "stream",
          "text": [
            "[[1. 0. 0.]\n",
            " [0. 1. 0.]\n",
            " [0. 0. 1.]]\n",
            "[[0. 1. 0. 0. 0. 0. 0.]\n",
            " [0. 0. 1. 0. 0. 0. 0.]\n",
            " [0. 0. 0. 1. 0. 0. 0.]\n",
            " [0. 0. 0. 0. 1. 0. 0.]\n",
            " [0. 0. 0. 0. 0. 1. 0.]\n",
            " [0. 0. 0. 0. 0. 0. 1.]\n",
            " [0. 0. 0. 0. 0. 0. 0.]\n",
            " [0. 0. 0. 0. 0. 0. 0.]]\n"
          ],
          "name": "stdout"
        }
      ]
    },
    {
      "cell_type": "code",
      "metadata": {
        "id": "P1Wiv9lhzxjD",
        "colab_type": "code",
        "outputId": "726fb371-208b-4e13-aa23-62f9ade44108",
        "colab": {
          "base_uri": "https://localhost:8080/",
          "height": 50
        }
      },
      "source": [
        "# Multiplicando matrizes\n",
        "array_6 = np.array([ 1, 2])\n",
        "array_7 = np.array([3, 4 ])\n",
        "print(np.dot(array_6, array_7))    \n",
        "print(np.cross(array_6, array_7))   \n",
        "\n",
        "#[ 1, 2 ] x [ 3, 4 ] = 3 + 8"
      ],
      "execution_count": 0,
      "outputs": [
        {
          "output_type": "stream",
          "text": [
            "11\n",
            "-2\n"
          ],
          "name": "stdout"
        }
      ]
    },
    {
      "cell_type": "code",
      "metadata": {
        "id": "b1fkpwWBsZkl",
        "colab_type": "code",
        "outputId": "f30d72fe-1a1b-41f2-9ccc-4234de35899c",
        "colab": {
          "base_uri": "https://localhost:8080/",
          "height": 34
        }
      },
      "source": [
        "import numpy as np\n",
        "\n",
        "A = np.array ([2, 3])\n",
        "B = np.array ([1, 2])\n",
        "\n",
        "output = np.cross (A, B)\n",
        "\n",
        "print (output)"
      ],
      "execution_count": 0,
      "outputs": [
        {
          "output_type": "stream",
          "text": [
            "1\n"
          ],
          "name": "stdout"
        }
      ]
    },
    {
      "cell_type": "code",
      "metadata": {
        "id": "lhGdSdEes6ln",
        "colab_type": "code",
        "outputId": "7692565a-e51a-41e2-bf3d-94810c2f3983",
        "colab": {
          "base_uri": "https://localhost:8080/",
          "height": 34
        }
      },
      "source": [
        "import numpy as np\n",
        "A = np.array ([2, 7, 4])\n",
        "B = np.array ([3, 9, 8])\n",
        "\n",
        "output = np.cross (A,B)\n",
        "\n",
        "print (output)"
      ],
      "execution_count": 0,
      "outputs": [
        {
          "output_type": "stream",
          "text": [
            "[20 -4 -3]\n"
          ],
          "name": "stdout"
        }
      ]
    }
  ]
}