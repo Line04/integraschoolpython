{
  "nbformat": 4,
  "nbformat_minor": 0,
  "metadata": {
    "colab": {
      "name": "Aula 4.2_Atividades",
      "provenance": [],
      "collapsed_sections": [],
      "toc_visible": true,
      "include_colab_link": true
    },
    "kernelspec": {
      "display_name": "Python 3",
      "name": "python3"
    }
  },
  "cells": [
    {
      "cell_type": "markdown",
      "metadata": {
        "id": "view-in-github",
        "colab_type": "text"
      },
      "source": [
        "<a href=\"https://colab.research.google.com/github/arturgmrs/integraschoolpython/blob/master/Aula_4_2_Atividades.ipynb\" target=\"_parent\"><img src=\"https://colab.research.google.com/assets/colab-badge.svg\" alt=\"Open In Colab\"/></a>"
      ]
    },
    {
      "cell_type": "markdown",
      "metadata": {
        "colab_type": "text",
        "id": "5fCEDCU_qrC0"
      },
      "source": [
        "<p><img alt=\"Colaboratory logo\" height=\"45px\" src=\"/img/colab_favicon.ico\" align=\"left\" hspace=\"10px\" vspace=\"0px\"></p>\n",
        "\n",
        "<h1>Lista de Atividades</h1>\n",
        "\n",
        "Essa atividade tem o objetivo de:\n",
        "- Fixação dos conteúdos\n",
        "- Desenvolvimento de atividades\n",
        "- Não possui critério avaliativo\n",
        "- É da resposanbilidade dos alunos desenvolver as resoluções \n",
        "- Será solucionada na aula de nivelamento ( a ser marcada)"
      ]
    },
    {
      "cell_type": "markdown",
      "metadata": {
        "colab_type": "text",
        "id": "GJBs_flRovLc"
      },
      "source": [
        "# **Atividade 1 - Google Colab**\n",
        "---\n",
        "\n",
        "1. Faça uma pesquisa sobre os benefícios do Google Colab e faça um resumo.\n",
        "2. Crie um notebook com o Colab em branco e nomeie como: \"Atividade1.2\"\n",
        "3. Importe um Google Colab usando o recurso Upload\n",
        "4. Abra o Google Colab de exemplo chamado \"Overview of Colaboratory Features\" e navegue pelo mesmo\n",
        "5. Faça uma cópia desse Google Colab e nomeie com \"Respostas da atividade\", onde use o mesmo para responder essas atividades.\n",
        "6. Organize todos os Colabs criados anteriormente em uma pasta do Drive de forma a ter organização."
      ]
    },
    {
      "cell_type": "markdown",
      "metadata": {
        "id": "kJNk-CVbn6-B",
        "colab_type": "text"
      },
      "source": [
        "# **Atividade 2 - A linguagem Python**\n",
        "---\n",
        "\n",
        "1.   Crie um programa simples usando Python, ex: Que imprima: \"Olá mundo\"\n",
        "2.   Crie um programa que pergunte ao usuário que itens ele quer comprar em uma determinada loja, liste os itens e peça confirmação do usuário.\n",
        "3. Faça a leitura [desse texto](http://devfuria.com.br/python/sintaxe-basica/) sobre sintaxe básica de Python e busque implementar os códigos, teste e note as diferenças, se habitue a fazer anotações usando #\n"
      ]
    },
    {
      "cell_type": "markdown",
      "metadata": {
        "id": "SSH51IWCnV3x",
        "colab_type": "text"
      },
      "source": [
        "# Atividade 3 - Comandos e repetição\n",
        "\n",
        "\n",
        "---\n",
        "\n",
        "\n",
        "1.   Em Python as estruturas de repetição podem ser criadas usando *While, While, While-else*. Para compreensão dos mesmos [leia o texto](https://curso-intro-python.readthedocs.io/repeticao.html), utilize o material e busque resolver as atividades propostas\n",
        "2.   Aprenda mais e revise sobre controle de fluxo [fazendo o tutorial do texto](https://algoritmosempython.com.br/cursos/programacao-python/fluxo-controle)"
      ]
    },
    {
      "cell_type": "markdown",
      "metadata": {
        "id": "LnZSl5cfw7MF",
        "colab_type": "text"
      },
      "source": [
        "# Atividade 4 - Importando pacotes e numpy\n",
        "---\n",
        "1.   No Colab importe o pacote *numpy*\n",
        "2.   Escreva um programa em Python que imprima a versão do Numpy\n",
        "3.   Crie um array com 4 elementos.\n",
        "4.   Crie matrizes de tamanhos: 2x2, 3x3, 4x4 e 5x5\n",
        "5.   Crie duas matrizes 2x2 e faça soma entre elas.\n",
        "6.   Crie duas matrizes 2x2 e faça uma multiplicação entre elas.\n",
        "7. Crie um programa que calcule o volume em m³ de uma caixa, em que o usuário forneça as informações.\n",
        "8. Crie uma matriz diagnol de tamanho 5x5.\n",
        "9. Crie um array 2x4 e alterne para 4x2.\n",
        "10. Crie um array com os valores de fibonacci e imprima: menor valor, maior valor e mediana.\n",
        "\n"
      ]
    }
  ]
}
