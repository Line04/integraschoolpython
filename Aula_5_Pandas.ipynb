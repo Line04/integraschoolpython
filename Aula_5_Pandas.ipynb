{
  "nbformat": 4,
  "nbformat_minor": 0,
  "metadata": {
    "colab": {
      "name": "Aula_5Pandas",
      "provenance": [],
      "collapsed_sections": [],
      "toc_visible": true,
      "include_colab_link": true
    },
    "kernelspec": {
      "display_name": "Python 3",
      "name": "python3"
    }
  },
  "cells": [
    {
      "cell_type": "markdown",
      "metadata": {
        "id": "view-in-github",
        "colab_type": "text"
      },
      "source": [
        "<a href=\"https://colab.research.google.com/github/arturgmrs/integraschoolpython/blob/master/Aula_5Pandas.ipynb\" target=\"_parent\"><img src=\"https://colab.research.google.com/assets/colab-badge.svg\" alt=\"Open In Colab\"/></a>"
      ]
    },
    {
      "cell_type": "markdown",
      "metadata": {
        "id": "40Ls76ak-9HF",
        "colab_type": "text"
      },
      "source": [
        "#Introdução à Programação Python\n",
        "Prof. Carlos Artur Guimarães\n",
        "\n",
        "Material adaptado: Tópicos de Tecnologia Educacional  2019-1 PPGITE/IMD \n",
        "UFRN Prof.s Isabel Nunes e Luiz Affonso Guedes\n",
        "\n",
        "# Aula 5_Pandas\n",
        "\n",
        "\n",
        "*   Importando\n",
        "*   Carregando\n",
        "*   Visualizando Dataset \n",
        "\n"
      ]
    },
    {
      "cell_type": "code",
      "metadata": {
        "id": "hFsb7YAMrfDx",
        "colab_type": "code",
        "colab": {}
      },
      "source": [
        "#Importando o pacote pandas\n",
        "import pandas as pd"
      ],
      "execution_count": 0,
      "outputs": []
    },
    {
      "cell_type": "code",
      "metadata": {
        "id": "dhoo4t-GxdLS",
        "colab_type": "code",
        "colab": {}
      },
      "source": [
        "#Informando os dados\n",
        "data = [1,2,3,4,5,6,7,8,9,10]\n",
        "#Informando o DataFrame\n",
        "df = pd.DataFrame(data)\n",
        "#Imprimindo o DataFrame\n",
        "print (df)"
      ],
      "execution_count": 0,
      "outputs": []
    },
    {
      "cell_type": "code",
      "metadata": {
        "id": "slGkTOIHsJ2_",
        "colab_type": "code",
        "colab": {}
      },
      "source": [
        "import pandas as pd\n",
        "#Criando DataFrame\n",
        "data = [['Aldenor', 18],['Bruno',21],['Tereza',23],['Priscila',20]]\n",
        "#Definindo colunas \n",
        "df = pd.DataFrame (data,columns=['Aluno','Idade'])\n",
        "#imprimindo DataFrame\n",
        "print (df)"
      ],
      "execution_count": 0,
      "outputs": []
    },
    {
      "cell_type": "code",
      "metadata": {
        "id": "Yq3frFh-tXpq",
        "colab_type": "code",
        "colab": {}
      },
      "source": [
        "import pandas as pd\n",
        "data = [['Aldenor', 10, 2, 4, 5],['Bruno',9, 8, 8, 9],['Tereza',8,8,9,10],['Priscila',7,7,8,9]]\n",
        "df = pd.DataFrame (data,columns=['Aluno','Nota 1','Nota2','Nota 3', 'Nota 4'])\n",
        "print (df)"
      ],
      "execution_count": 0,
      "outputs": []
    },
    {
      "cell_type": "code",
      "metadata": {
        "id": "q_CdR2CpuIQB",
        "colab_type": "code",
        "colab": {
          "base_uri": "https://localhost:8080/",
          "height": 235
        },
        "outputId": "c9bc85a4-9395-4017-f287-999ca5e8a247"
      },
      "source": [
        "import pandas as pd\n",
        "d = {'one' : pd.Series([1,2,3], index=['a','b','c']),\n",
        "     'two' : pd.Series([1, 2, 3, 4, 5, 6, 7, 8, 9], index=['a','b','c','d','e','f','g','h','i'])\n",
        "     }\n",
        "\n",
        "df = pd.DataFrame(d)\n",
        "print (df)\n",
        "print (df.sum())\n",
        "\n",
        "#Informações sobre o DataFrame\n",
        "\n",
        "#df.index  \n",
        "#descrição do index\n",
        "#df.columns \n",
        "#colunas do DataFrame\n",
        "#df.count(df) \n",
        "#contagem dados não nulos"
      ],
      "execution_count": 79,
      "outputs": [
        {
          "output_type": "stream",
          "text": [
            "   one  two\n",
            "a  1.0    1\n",
            "b  2.0    2\n",
            "c  3.0    3\n",
            "d  NaN    4\n",
            "e  NaN    5\n",
            "f  NaN    6\n",
            "g  NaN    7\n",
            "h  NaN    8\n",
            "i  NaN    9\n",
            "one     6.0\n",
            "two    45.0\n",
            "dtype: float64\n"
          ],
          "name": "stdout"
        }
      ]
    },
    {
      "cell_type": "code",
      "metadata": {
        "id": "u5xNkV0p2hi1",
        "colab_type": "code",
        "colab": {
          "base_uri": "https://localhost:8080/",
          "height": 402
        },
        "outputId": "eb1a35b1-a5e9-4565-fb46-aba1a19d72d9"
      },
      "source": [
        "#importando dataset\n",
        "import pandas as pd\n",
        "df =pd.read_csv('titanic.csv')\n",
        "df"
      ],
      "execution_count": 111,
      "outputs": [
        {
          "output_type": "execute_result",
          "data": {
            "text/html": [
              "<div>\n",
              "<style scoped>\n",
              "    .dataframe tbody tr th:only-of-type {\n",
              "        vertical-align: middle;\n",
              "    }\n",
              "\n",
              "    .dataframe tbody tr th {\n",
              "        vertical-align: top;\n",
              "    }\n",
              "\n",
              "    .dataframe thead th {\n",
              "        text-align: right;\n",
              "    }\n",
              "</style>\n",
              "<table border=\"1\" class=\"dataframe\">\n",
              "  <thead>\n",
              "    <tr style=\"text-align: right;\">\n",
              "      <th></th>\n",
              "      <th>Unnamed: 0</th>\n",
              "      <th>class</th>\n",
              "      <th>age</th>\n",
              "      <th>sex</th>\n",
              "      <th>survived</th>\n",
              "    </tr>\n",
              "  </thead>\n",
              "  <tbody>\n",
              "    <tr>\n",
              "      <th>0</th>\n",
              "      <td>1</td>\n",
              "      <td>1st class</td>\n",
              "      <td>adults</td>\n",
              "      <td>man</td>\n",
              "      <td>yes</td>\n",
              "    </tr>\n",
              "    <tr>\n",
              "      <th>1</th>\n",
              "      <td>2</td>\n",
              "      <td>1st class</td>\n",
              "      <td>adults</td>\n",
              "      <td>man</td>\n",
              "      <td>yes</td>\n",
              "    </tr>\n",
              "    <tr>\n",
              "      <th>2</th>\n",
              "      <td>3</td>\n",
              "      <td>1st class</td>\n",
              "      <td>adults</td>\n",
              "      <td>man</td>\n",
              "      <td>yes</td>\n",
              "    </tr>\n",
              "    <tr>\n",
              "      <th>3</th>\n",
              "      <td>4</td>\n",
              "      <td>1st class</td>\n",
              "      <td>adults</td>\n",
              "      <td>man</td>\n",
              "      <td>yes</td>\n",
              "    </tr>\n",
              "    <tr>\n",
              "      <th>4</th>\n",
              "      <td>5</td>\n",
              "      <td>1st class</td>\n",
              "      <td>adults</td>\n",
              "      <td>man</td>\n",
              "      <td>yes</td>\n",
              "    </tr>\n",
              "    <tr>\n",
              "      <th>...</th>\n",
              "      <td>...</td>\n",
              "      <td>...</td>\n",
              "      <td>...</td>\n",
              "      <td>...</td>\n",
              "      <td>...</td>\n",
              "    </tr>\n",
              "    <tr>\n",
              "      <th>1311</th>\n",
              "      <td>1312</td>\n",
              "      <td>3rd class</td>\n",
              "      <td>child</td>\n",
              "      <td>women</td>\n",
              "      <td>no</td>\n",
              "    </tr>\n",
              "    <tr>\n",
              "      <th>1312</th>\n",
              "      <td>1313</td>\n",
              "      <td>3rd class</td>\n",
              "      <td>child</td>\n",
              "      <td>women</td>\n",
              "      <td>no</td>\n",
              "    </tr>\n",
              "    <tr>\n",
              "      <th>1313</th>\n",
              "      <td>1314</td>\n",
              "      <td>3rd class</td>\n",
              "      <td>child</td>\n",
              "      <td>women</td>\n",
              "      <td>no</td>\n",
              "    </tr>\n",
              "    <tr>\n",
              "      <th>1314</th>\n",
              "      <td>1315</td>\n",
              "      <td>3rd class</td>\n",
              "      <td>child</td>\n",
              "      <td>women</td>\n",
              "      <td>no</td>\n",
              "    </tr>\n",
              "    <tr>\n",
              "      <th>1315</th>\n",
              "      <td>1316</td>\n",
              "      <td>3rd class</td>\n",
              "      <td>child</td>\n",
              "      <td>women</td>\n",
              "      <td>no</td>\n",
              "    </tr>\n",
              "  </tbody>\n",
              "</table>\n",
              "<p>1316 rows × 5 columns</p>\n",
              "</div>"
            ],
            "text/plain": [
              "      Unnamed: 0      class     age    sex survived\n",
              "0              1  1st class  adults    man      yes\n",
              "1              2  1st class  adults    man      yes\n",
              "2              3  1st class  adults    man      yes\n",
              "3              4  1st class  adults    man      yes\n",
              "4              5  1st class  adults    man      yes\n",
              "...          ...        ...     ...    ...      ...\n",
              "1311        1312  3rd class   child  women       no\n",
              "1312        1313  3rd class   child  women       no\n",
              "1313        1314  3rd class   child  women       no\n",
              "1314        1315  3rd class   child  women       no\n",
              "1315        1316  3rd class   child  women       no\n",
              "\n",
              "[1316 rows x 5 columns]"
            ]
          },
          "metadata": {
            "tags": []
          },
          "execution_count": 111
        }
      ]
    },
    {
      "cell_type": "code",
      "metadata": {
        "id": "pbNbSFgtjKt3",
        "colab_type": "code",
        "colab": {
          "base_uri": "https://localhost:8080/",
          "height": 162
        },
        "outputId": "1b875d5c-9e0a-44b4-c023-b2b6d06aebe3"
      },
      "source": [
        "df = [\"age\"].plot.hist()"
      ],
      "execution_count": 138,
      "outputs": [
        {
          "output_type": "error",
          "ename": "AttributeError",
          "evalue": "ignored",
          "traceback": [
            "\u001b[0;31m---------------------------------------------------------------------------\u001b[0m",
            "\u001b[0;31mAttributeError\u001b[0m                            Traceback (most recent call last)",
            "\u001b[0;32m<ipython-input-138-7a0ac6d93c56>\u001b[0m in \u001b[0;36m<module>\u001b[0;34m()\u001b[0m\n\u001b[0;32m----> 1\u001b[0;31m \u001b[0mdf\u001b[0m \u001b[0;34m=\u001b[0m \u001b[0;34m[\u001b[0m\u001b[0;34m\"age\"\u001b[0m\u001b[0;34m]\u001b[0m\u001b[0;34m.\u001b[0m\u001b[0mplot\u001b[0m\u001b[0;34m.\u001b[0m\u001b[0mhist\u001b[0m\u001b[0;34m(\u001b[0m\u001b[0;34m)\u001b[0m\u001b[0;34m\u001b[0m\u001b[0;34m\u001b[0m\u001b[0m\n\u001b[0m",
            "\u001b[0;31mAttributeError\u001b[0m: 'list' object has no attribute 'plot'"
          ]
        }
      ]
    },
    {
      "cell_type": "code",
      "metadata": {
        "id": "hMkT2n3mr7Bq",
        "colab_type": "code",
        "colab": {
          "base_uri": "https://localhost:8080/",
          "height": 431
        },
        "outputId": "e3e8a216-5083-46a7-c364-108b032d430f"
      },
      "source": [
        "#importando dataset\n",
        "import pandas as pd\n",
        "#leitura do csv\n",
        "df =pd.read_csv('titanic.csv')\n",
        "#leitura do csv e indexando uma coluna como principal\n",
        "df.set_index(['class','sex'])\n",
        "#df\n",
        "#Selecionando uma única coluna\n",
        "#df.sex"
      ],
      "execution_count": 93,
      "outputs": [
        {
          "output_type": "execute_result",
          "data": {
            "text/html": [
              "<div>\n",
              "<style scoped>\n",
              "    .dataframe tbody tr th:only-of-type {\n",
              "        vertical-align: middle;\n",
              "    }\n",
              "\n",
              "    .dataframe tbody tr th {\n",
              "        vertical-align: top;\n",
              "    }\n",
              "\n",
              "    .dataframe thead th {\n",
              "        text-align: right;\n",
              "    }\n",
              "</style>\n",
              "<table border=\"1\" class=\"dataframe\">\n",
              "  <thead>\n",
              "    <tr style=\"text-align: right;\">\n",
              "      <th></th>\n",
              "      <th></th>\n",
              "      <th>Unnamed: 0</th>\n",
              "      <th>age</th>\n",
              "      <th>survived</th>\n",
              "    </tr>\n",
              "    <tr>\n",
              "      <th>class</th>\n",
              "      <th>sex</th>\n",
              "      <th></th>\n",
              "      <th></th>\n",
              "      <th></th>\n",
              "    </tr>\n",
              "  </thead>\n",
              "  <tbody>\n",
              "    <tr>\n",
              "      <th rowspan=\"5\" valign=\"top\">1st class</th>\n",
              "      <th>man</th>\n",
              "      <td>1</td>\n",
              "      <td>adults</td>\n",
              "      <td>yes</td>\n",
              "    </tr>\n",
              "    <tr>\n",
              "      <th>man</th>\n",
              "      <td>2</td>\n",
              "      <td>adults</td>\n",
              "      <td>yes</td>\n",
              "    </tr>\n",
              "    <tr>\n",
              "      <th>man</th>\n",
              "      <td>3</td>\n",
              "      <td>adults</td>\n",
              "      <td>yes</td>\n",
              "    </tr>\n",
              "    <tr>\n",
              "      <th>man</th>\n",
              "      <td>4</td>\n",
              "      <td>adults</td>\n",
              "      <td>yes</td>\n",
              "    </tr>\n",
              "    <tr>\n",
              "      <th>man</th>\n",
              "      <td>5</td>\n",
              "      <td>adults</td>\n",
              "      <td>yes</td>\n",
              "    </tr>\n",
              "    <tr>\n",
              "      <th>...</th>\n",
              "      <th>...</th>\n",
              "      <td>...</td>\n",
              "      <td>...</td>\n",
              "      <td>...</td>\n",
              "    </tr>\n",
              "    <tr>\n",
              "      <th rowspan=\"5\" valign=\"top\">3rd class</th>\n",
              "      <th>women</th>\n",
              "      <td>1312</td>\n",
              "      <td>child</td>\n",
              "      <td>no</td>\n",
              "    </tr>\n",
              "    <tr>\n",
              "      <th>women</th>\n",
              "      <td>1313</td>\n",
              "      <td>child</td>\n",
              "      <td>no</td>\n",
              "    </tr>\n",
              "    <tr>\n",
              "      <th>women</th>\n",
              "      <td>1314</td>\n",
              "      <td>child</td>\n",
              "      <td>no</td>\n",
              "    </tr>\n",
              "    <tr>\n",
              "      <th>women</th>\n",
              "      <td>1315</td>\n",
              "      <td>child</td>\n",
              "      <td>no</td>\n",
              "    </tr>\n",
              "    <tr>\n",
              "      <th>women</th>\n",
              "      <td>1316</td>\n",
              "      <td>child</td>\n",
              "      <td>no</td>\n",
              "    </tr>\n",
              "  </tbody>\n",
              "</table>\n",
              "<p>1316 rows × 3 columns</p>\n",
              "</div>"
            ],
            "text/plain": [
              "                 Unnamed: 0     age survived\n",
              "class     sex                               \n",
              "1st class man             1  adults      yes\n",
              "          man             2  adults      yes\n",
              "          man             3  adults      yes\n",
              "          man             4  adults      yes\n",
              "          man             5  adults      yes\n",
              "...                     ...     ...      ...\n",
              "3rd class women        1312   child       no\n",
              "          women        1313   child       no\n",
              "          women        1314   child       no\n",
              "          women        1315   child       no\n",
              "          women        1316   child       no\n",
              "\n",
              "[1316 rows x 3 columns]"
            ]
          },
          "metadata": {
            "tags": []
          },
          "execution_count": 93
        }
      ]
    },
    {
      "cell_type": "code",
      "metadata": {
        "id": "9--BacfN9czE",
        "colab_type": "code",
        "colab": {}
      },
      "source": [
        "# arquivo do GitHub - Livro Handbook of data Science\n",
        "Estados_USA = pd.read_csv('https://raw.githubusercontent.com/jakevdp/PythonDataScienceHandbook/master/notebooks/data/state-population.csv')"
      ],
      "execution_count": 0,
      "outputs": []
    },
    {
      "cell_type": "code",
      "metadata": {
        "id": "puVlvCwt9fAK",
        "colab_type": "code",
        "colab": {
          "base_uri": "https://localhost:8080/",
          "height": 402
        },
        "outputId": "aa500321-855b-4b56-d761-ac7fbd68090c"
      },
      "source": [
        "Estados_USA"
      ],
      "execution_count": 97,
      "outputs": [
        {
          "output_type": "execute_result",
          "data": {
            "text/html": [
              "<div>\n",
              "<style scoped>\n",
              "    .dataframe tbody tr th:only-of-type {\n",
              "        vertical-align: middle;\n",
              "    }\n",
              "\n",
              "    .dataframe tbody tr th {\n",
              "        vertical-align: top;\n",
              "    }\n",
              "\n",
              "    .dataframe thead th {\n",
              "        text-align: right;\n",
              "    }\n",
              "</style>\n",
              "<table border=\"1\" class=\"dataframe\">\n",
              "  <thead>\n",
              "    <tr style=\"text-align: right;\">\n",
              "      <th></th>\n",
              "      <th>state/region</th>\n",
              "      <th>ages</th>\n",
              "      <th>year</th>\n",
              "      <th>population</th>\n",
              "    </tr>\n",
              "  </thead>\n",
              "  <tbody>\n",
              "    <tr>\n",
              "      <th>0</th>\n",
              "      <td>AL</td>\n",
              "      <td>under18</td>\n",
              "      <td>2012</td>\n",
              "      <td>1117489.0</td>\n",
              "    </tr>\n",
              "    <tr>\n",
              "      <th>1</th>\n",
              "      <td>AL</td>\n",
              "      <td>total</td>\n",
              "      <td>2012</td>\n",
              "      <td>4817528.0</td>\n",
              "    </tr>\n",
              "    <tr>\n",
              "      <th>2</th>\n",
              "      <td>AL</td>\n",
              "      <td>under18</td>\n",
              "      <td>2010</td>\n",
              "      <td>1130966.0</td>\n",
              "    </tr>\n",
              "    <tr>\n",
              "      <th>3</th>\n",
              "      <td>AL</td>\n",
              "      <td>total</td>\n",
              "      <td>2010</td>\n",
              "      <td>4785570.0</td>\n",
              "    </tr>\n",
              "    <tr>\n",
              "      <th>4</th>\n",
              "      <td>AL</td>\n",
              "      <td>under18</td>\n",
              "      <td>2011</td>\n",
              "      <td>1125763.0</td>\n",
              "    </tr>\n",
              "    <tr>\n",
              "      <th>...</th>\n",
              "      <td>...</td>\n",
              "      <td>...</td>\n",
              "      <td>...</td>\n",
              "      <td>...</td>\n",
              "    </tr>\n",
              "    <tr>\n",
              "      <th>2539</th>\n",
              "      <td>USA</td>\n",
              "      <td>total</td>\n",
              "      <td>2010</td>\n",
              "      <td>309326295.0</td>\n",
              "    </tr>\n",
              "    <tr>\n",
              "      <th>2540</th>\n",
              "      <td>USA</td>\n",
              "      <td>under18</td>\n",
              "      <td>2011</td>\n",
              "      <td>73902222.0</td>\n",
              "    </tr>\n",
              "    <tr>\n",
              "      <th>2541</th>\n",
              "      <td>USA</td>\n",
              "      <td>total</td>\n",
              "      <td>2011</td>\n",
              "      <td>311582564.0</td>\n",
              "    </tr>\n",
              "    <tr>\n",
              "      <th>2542</th>\n",
              "      <td>USA</td>\n",
              "      <td>under18</td>\n",
              "      <td>2012</td>\n",
              "      <td>73708179.0</td>\n",
              "    </tr>\n",
              "    <tr>\n",
              "      <th>2543</th>\n",
              "      <td>USA</td>\n",
              "      <td>total</td>\n",
              "      <td>2012</td>\n",
              "      <td>313873685.0</td>\n",
              "    </tr>\n",
              "  </tbody>\n",
              "</table>\n",
              "<p>2544 rows × 4 columns</p>\n",
              "</div>"
            ],
            "text/plain": [
              "     state/region     ages  year   population\n",
              "0              AL  under18  2012    1117489.0\n",
              "1              AL    total  2012    4817528.0\n",
              "2              AL  under18  2010    1130966.0\n",
              "3              AL    total  2010    4785570.0\n",
              "4              AL  under18  2011    1125763.0\n",
              "...           ...      ...   ...          ...\n",
              "2539          USA    total  2010  309326295.0\n",
              "2540          USA  under18  2011   73902222.0\n",
              "2541          USA    total  2011  311582564.0\n",
              "2542          USA  under18  2012   73708179.0\n",
              "2543          USA    total  2012  313873685.0\n",
              "\n",
              "[2544 rows x 4 columns]"
            ]
          },
          "metadata": {
            "tags": []
          },
          "execution_count": 97
        }
      ]
    },
    {
      "cell_type": "code",
      "metadata": {
        "id": "0UYzRY_p-EFA",
        "colab_type": "code",
        "colab": {}
      },
      "source": [
        "# Exemplo 2 de importação de um site www\n",
        "x1 = pd.read_csv('https://raw.githubusercontent.com/jakevdp/PythonDataScienceHandbook/master/notebooks/data/state-population.csv')"
      ],
      "execution_count": 0,
      "outputs": []
    },
    {
      "cell_type": "code",
      "metadata": {
        "id": "d9yNI5T7-Iy-",
        "colab_type": "code",
        "colab": {
          "base_uri": "https://localhost:8080/",
          "height": 402
        },
        "outputId": "3f48b746-30fa-444d-f5e2-ec2332bcf448"
      },
      "source": [
        "x1"
      ],
      "execution_count": 96,
      "outputs": [
        {
          "output_type": "execute_result",
          "data": {
            "text/html": [
              "<div>\n",
              "<style scoped>\n",
              "    .dataframe tbody tr th:only-of-type {\n",
              "        vertical-align: middle;\n",
              "    }\n",
              "\n",
              "    .dataframe tbody tr th {\n",
              "        vertical-align: top;\n",
              "    }\n",
              "\n",
              "    .dataframe thead th {\n",
              "        text-align: right;\n",
              "    }\n",
              "</style>\n",
              "<table border=\"1\" class=\"dataframe\">\n",
              "  <thead>\n",
              "    <tr style=\"text-align: right;\">\n",
              "      <th></th>\n",
              "      <th>state/region</th>\n",
              "      <th>ages</th>\n",
              "      <th>year</th>\n",
              "      <th>population</th>\n",
              "    </tr>\n",
              "  </thead>\n",
              "  <tbody>\n",
              "    <tr>\n",
              "      <th>0</th>\n",
              "      <td>AL</td>\n",
              "      <td>under18</td>\n",
              "      <td>2012</td>\n",
              "      <td>1117489.0</td>\n",
              "    </tr>\n",
              "    <tr>\n",
              "      <th>1</th>\n",
              "      <td>AL</td>\n",
              "      <td>total</td>\n",
              "      <td>2012</td>\n",
              "      <td>4817528.0</td>\n",
              "    </tr>\n",
              "    <tr>\n",
              "      <th>2</th>\n",
              "      <td>AL</td>\n",
              "      <td>under18</td>\n",
              "      <td>2010</td>\n",
              "      <td>1130966.0</td>\n",
              "    </tr>\n",
              "    <tr>\n",
              "      <th>3</th>\n",
              "      <td>AL</td>\n",
              "      <td>total</td>\n",
              "      <td>2010</td>\n",
              "      <td>4785570.0</td>\n",
              "    </tr>\n",
              "    <tr>\n",
              "      <th>4</th>\n",
              "      <td>AL</td>\n",
              "      <td>under18</td>\n",
              "      <td>2011</td>\n",
              "      <td>1125763.0</td>\n",
              "    </tr>\n",
              "    <tr>\n",
              "      <th>...</th>\n",
              "      <td>...</td>\n",
              "      <td>...</td>\n",
              "      <td>...</td>\n",
              "      <td>...</td>\n",
              "    </tr>\n",
              "    <tr>\n",
              "      <th>2539</th>\n",
              "      <td>USA</td>\n",
              "      <td>total</td>\n",
              "      <td>2010</td>\n",
              "      <td>309326295.0</td>\n",
              "    </tr>\n",
              "    <tr>\n",
              "      <th>2540</th>\n",
              "      <td>USA</td>\n",
              "      <td>under18</td>\n",
              "      <td>2011</td>\n",
              "      <td>73902222.0</td>\n",
              "    </tr>\n",
              "    <tr>\n",
              "      <th>2541</th>\n",
              "      <td>USA</td>\n",
              "      <td>total</td>\n",
              "      <td>2011</td>\n",
              "      <td>311582564.0</td>\n",
              "    </tr>\n",
              "    <tr>\n",
              "      <th>2542</th>\n",
              "      <td>USA</td>\n",
              "      <td>under18</td>\n",
              "      <td>2012</td>\n",
              "      <td>73708179.0</td>\n",
              "    </tr>\n",
              "    <tr>\n",
              "      <th>2543</th>\n",
              "      <td>USA</td>\n",
              "      <td>total</td>\n",
              "      <td>2012</td>\n",
              "      <td>313873685.0</td>\n",
              "    </tr>\n",
              "  </tbody>\n",
              "</table>\n",
              "<p>2544 rows × 4 columns</p>\n",
              "</div>"
            ],
            "text/plain": [
              "     state/region     ages  year   population\n",
              "0              AL  under18  2012    1117489.0\n",
              "1              AL    total  2012    4817528.0\n",
              "2              AL  under18  2010    1130966.0\n",
              "3              AL    total  2010    4785570.0\n",
              "4              AL  under18  2011    1125763.0\n",
              "...           ...      ...   ...          ...\n",
              "2539          USA    total  2010  309326295.0\n",
              "2540          USA  under18  2011   73902222.0\n",
              "2541          USA    total  2011  311582564.0\n",
              "2542          USA  under18  2012   73708179.0\n",
              "2543          USA    total  2012  313873685.0\n",
              "\n",
              "[2544 rows x 4 columns]"
            ]
          },
          "metadata": {
            "tags": []
          },
          "execution_count": 96
        }
      ]
    },
    {
      "cell_type": "code",
      "metadata": {
        "id": "-h11rrcx-MSM",
        "colab_type": "code",
        "colab": {
          "base_uri": "https://localhost:8080/",
          "height": 118
        },
        "outputId": "1c2ecb0c-2c50-43af-8439-24c4d7dbffab"
      },
      "source": [
        "x1['population']\n",
        "x1.population.head()"
      ],
      "execution_count": 115,
      "outputs": [
        {
          "output_type": "execute_result",
          "data": {
            "text/plain": [
              "0    1117489.0\n",
              "1    4817528.0\n",
              "2    1130966.0\n",
              "3    4785570.0\n",
              "4    1125763.0\n",
              "Name: population, dtype: float64"
            ]
          },
          "metadata": {
            "tags": []
          },
          "execution_count": 115
        }
      ]
    },
    {
      "cell_type": "code",
      "metadata": {
        "id": "cYYFUX6u-T44",
        "colab_type": "code",
        "colab": {
          "base_uri": "https://localhost:8080/",
          "height": 402
        },
        "outputId": "a1d1ffca-d587-4be5-a9b9-d5276aa0026a"
      },
      "source": [
        "x1[['year','population']]"
      ],
      "execution_count": 116,
      "outputs": [
        {
          "output_type": "execute_result",
          "data": {
            "text/html": [
              "<div>\n",
              "<style scoped>\n",
              "    .dataframe tbody tr th:only-of-type {\n",
              "        vertical-align: middle;\n",
              "    }\n",
              "\n",
              "    .dataframe tbody tr th {\n",
              "        vertical-align: top;\n",
              "    }\n",
              "\n",
              "    .dataframe thead th {\n",
              "        text-align: right;\n",
              "    }\n",
              "</style>\n",
              "<table border=\"1\" class=\"dataframe\">\n",
              "  <thead>\n",
              "    <tr style=\"text-align: right;\">\n",
              "      <th></th>\n",
              "      <th>year</th>\n",
              "      <th>population</th>\n",
              "    </tr>\n",
              "  </thead>\n",
              "  <tbody>\n",
              "    <tr>\n",
              "      <th>0</th>\n",
              "      <td>2012</td>\n",
              "      <td>1117489.0</td>\n",
              "    </tr>\n",
              "    <tr>\n",
              "      <th>1</th>\n",
              "      <td>2012</td>\n",
              "      <td>4817528.0</td>\n",
              "    </tr>\n",
              "    <tr>\n",
              "      <th>2</th>\n",
              "      <td>2010</td>\n",
              "      <td>1130966.0</td>\n",
              "    </tr>\n",
              "    <tr>\n",
              "      <th>3</th>\n",
              "      <td>2010</td>\n",
              "      <td>4785570.0</td>\n",
              "    </tr>\n",
              "    <tr>\n",
              "      <th>4</th>\n",
              "      <td>2011</td>\n",
              "      <td>1125763.0</td>\n",
              "    </tr>\n",
              "    <tr>\n",
              "      <th>...</th>\n",
              "      <td>...</td>\n",
              "      <td>...</td>\n",
              "    </tr>\n",
              "    <tr>\n",
              "      <th>2539</th>\n",
              "      <td>2010</td>\n",
              "      <td>309326295.0</td>\n",
              "    </tr>\n",
              "    <tr>\n",
              "      <th>2540</th>\n",
              "      <td>2011</td>\n",
              "      <td>73902222.0</td>\n",
              "    </tr>\n",
              "    <tr>\n",
              "      <th>2541</th>\n",
              "      <td>2011</td>\n",
              "      <td>311582564.0</td>\n",
              "    </tr>\n",
              "    <tr>\n",
              "      <th>2542</th>\n",
              "      <td>2012</td>\n",
              "      <td>73708179.0</td>\n",
              "    </tr>\n",
              "    <tr>\n",
              "      <th>2543</th>\n",
              "      <td>2012</td>\n",
              "      <td>313873685.0</td>\n",
              "    </tr>\n",
              "  </tbody>\n",
              "</table>\n",
              "<p>2544 rows × 2 columns</p>\n",
              "</div>"
            ],
            "text/plain": [
              "      year   population\n",
              "0     2012    1117489.0\n",
              "1     2012    4817528.0\n",
              "2     2010    1130966.0\n",
              "3     2010    4785570.0\n",
              "4     2011    1125763.0\n",
              "...    ...          ...\n",
              "2539  2010  309326295.0\n",
              "2540  2011   73902222.0\n",
              "2541  2011  311582564.0\n",
              "2542  2012   73708179.0\n",
              "2543  2012  313873685.0\n",
              "\n",
              "[2544 rows x 2 columns]"
            ]
          },
          "metadata": {
            "tags": []
          },
          "execution_count": 116
        }
      ]
    },
    {
      "cell_type": "code",
      "metadata": {
        "id": "r8fb7WQo-ZY0",
        "colab_type": "code",
        "colab": {}
      },
      "source": [
        "import matplotlib.pyplot as plt"
      ],
      "execution_count": 0,
      "outputs": []
    },
    {
      "cell_type": "code",
      "metadata": {
        "id": "Kiz876i9-cAh",
        "colab_type": "code",
        "colab": {
          "base_uri": "https://localhost:8080/",
          "height": 276
        },
        "outputId": "77b37e37-3179-498d-ce3e-c6303ead1e3d"
      },
      "source": [
        "%matplotlib inline  \n",
        "x1['population'].plot()\n",
        "plt.show()"
      ],
      "execution_count": 118,
      "outputs": [
        {
          "output_type": "display_data",
          "data": {
            "image/png": "[encoded data removed]",
            "text/plain": [
              "<Figure size 432x288 with 1 Axes>"
            ]
          },
          "metadata": {
            "tags": [],
            "needs_background": "light"
          }
        }
      ]
    },
    {
      "cell_type": "code",
      "metadata": {
        "id": "sl0m1yhj-VYh",
        "colab_type": "code",
        "colab": {
          "base_uri": "https://localhost:8080/",
          "height": 118
        },
        "outputId": "fd5ad5c3-b93a-4a11-9504-dfcb1427a8cd"
      },
      "source": [
        "x1['state/region'].head()"
      ],
      "execution_count": 119,
      "outputs": [
        {
          "output_type": "execute_result",
          "data": {
            "text/plain": [
              "0    AL\n",
              "1    AL\n",
              "2    AL\n",
              "3    AL\n",
              "4    AL\n",
              "Name: state/region, dtype: object"
            ]
          },
          "metadata": {
            "tags": []
          },
          "execution_count": 119
        }
      ]
    },
    {
      "cell_type": "code",
      "metadata": {
        "id": "OoeYm_ZV-wnU",
        "colab_type": "code",
        "colab": {}
      },
      "source": [
        "# Carregando os arquivos csv\n",
        "#Código \n",
        "pop = pd.read_csv('https://raw.githubusercontent.com/jakevdp/data-USstates/master/state-population.csv')\n",
        "areas = pd.read_csv('https://raw.githubusercontent.com/jakevdp/data-USstates/master/state-areas.csv')\n",
        "abbrevs = pd.read_csv('https://raw.githubusercontent.com/jakevdp/data-USstates/master/state-abbrevs.csv')"
      ],
      "execution_count": 0,
      "outputs": []
    },
    {
      "cell_type": "code",
      "metadata": {
        "id": "_sJiC76f-yGp",
        "colab_type": "code",
        "colab": {
          "base_uri": "https://localhost:8080/",
          "height": 353
        },
        "outputId": "453e8878-bb13-4212-d851-a69140bf402d"
      },
      "source": [
        "# Verificando os conteúdos dos arquivos\n",
        "\n",
        "print(pop.head())\n",
        "print()\n",
        "print(areas.head())\n",
        "print()\n",
        "print(abbrevs.head())"
      ],
      "execution_count": 135,
      "outputs": [
        {
          "output_type": "stream",
          "text": [
            "  state/region     ages  year  population\n",
            "0           AL  under18  2012   1117489.0\n",
            "1           AL    total  2012   4817528.0\n",
            "2           AL  under18  2010   1130966.0\n",
            "3           AL    total  2010   4785570.0\n",
            "4           AL  under18  2011   1125763.0\n",
            "\n",
            "        state  area (sq. mi)\n",
            "0     Alabama          52423\n",
            "1      Alaska         656425\n",
            "2     Arizona         114006\n",
            "3    Arkansas          53182\n",
            "4  California         163707\n",
            "\n",
            "        state abbreviation\n",
            "0     Alabama           AL\n",
            "1      Alaska           AK\n",
            "2     Arizona           AZ\n",
            "3    Arkansas           AR\n",
            "4  California           CA\n"
          ],
          "name": "stdout"
        }
      ]
    },
    {
      "cell_type": "code",
      "metadata": {
        "id": "luQTzlKfbhHp",
        "colab_type": "code",
        "colab": {}
      },
      "source": [
        "#kagle ipea dataset"
      ],
      "execution_count": 0,
      "outputs": []
    }
  ]
}